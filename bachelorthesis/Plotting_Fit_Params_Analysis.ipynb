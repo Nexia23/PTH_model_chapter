{
 "cells": [
  {
   "attachments": {},
   "cell_type": "markdown",
   "metadata": {},
   "source": [
    "# Analyse Parameter von Fit - Boxplot"
   ]
  },
  {
   "attachments": {},
   "cell_type": "markdown",
   "metadata": {},
   "source": [
    "## Packages"
   ]
  },
  {
   "cell_type": "code",
   "execution_count": 1,
   "metadata": {},
   "outputs": [],
   "source": [
    "import sys\n",
    "sys.path.append('../datasets') \n",
    "import dataset_long as dsl\n",
    "\n",
    "sys.path.append('../fitting') \n",
    "import paramfitt_singlePatient as pf \n",
    "\n",
    "# Model\n",
    "import numpy as np\n",
    "import tellurium as te\n",
    "# Plotting\n",
    "import matplotlib.pyplot as plt\n",
    "import seaborn as sns\n",
    "# Dataframe\n",
    "import pandas as pd\n",
    "\n",
    "#Estimation\n",
    "\n",
    "from scipy.optimize import minimize \n",
    "from collections import OrderedDict\n",
    "from scipy.stats import qmc\n",
    "from scipy.optimize import basinhopping\n",
    "#Analyse Estimation\n",
    "from scipy.stats import chi2\n",
    "from scipy.stats import norm\n",
    "\n",
    "# Save optimization params\n",
    "import json\n",
    "import time"
   ]
  },
  {
   "attachments": {},
   "cell_type": "markdown",
   "metadata": {},
   "source": [
    "## Boxplot Params analyse"
   ]
  },
  {
   "cell_type": "code",
   "execution_count": 2,
   "metadata": {},
   "outputs": [
    {
     "ename": "FileNotFoundError",
     "evalue": "[Errno 2] No such file or directory: '.././fitting/20230903-08-59-54paras_optimized.json'",
     "output_type": "error",
     "traceback": [
      "\u001b[1;31m---------------------------------------------------------------------------\u001b[0m",
      "\u001b[1;31mFileNotFoundError\u001b[0m                         Traceback (most recent call last)",
      "Cell \u001b[1;32mIn[2], line 7\u001b[0m\n\u001b[0;32m      4\u001b[0m bounds \u001b[39m=\u001b[39m get_params_bounds()\n\u001b[0;32m      6\u001b[0m \u001b[39m# Lade Daten aus dem ersten File\u001b[39;00m\n\u001b[1;32m----> 7\u001b[0m \u001b[39mwith\u001b[39;00m \u001b[39mopen\u001b[39;49m (\u001b[39m'\u001b[39;49m\u001b[39m.././fitting/20230903-08-59-54paras_optimized.json\u001b[39;49m\u001b[39m'\u001b[39;49m, \u001b[39m'\u001b[39;49m\u001b[39mr\u001b[39;49m\u001b[39m'\u001b[39;49m) \u001b[39mas\u001b[39;00m jsonfile: \u001b[39m#new, correct update function\u001b[39;00m\n\u001b[0;32m      8\u001b[0m \u001b[39m#with open(\"../fitting/20230814-12-52-29paras_optimized.json\", \"r\") as jsonfile:\u001b[39;00m\n\u001b[0;32m      9\u001b[0m     fit_PTH \u001b[39m=\u001b[39m json\u001b[39m.\u001b[39mload(jsonfile)\n\u001b[0;32m     10\u001b[0m df_PTH \u001b[39m=\u001b[39m pd\u001b[39m.\u001b[39mDataFrame([r[\u001b[39m\"\u001b[39m\u001b[39mbest_params\u001b[39m\u001b[39m\"\u001b[39m] \u001b[39mfor\u001b[39;00m r \u001b[39min\u001b[39;00m fit_PTH[\u001b[39m\"\u001b[39m\u001b[39mresults\u001b[39m\u001b[39m\"\u001b[39m]])\n",
      "File \u001b[1;32mc:\\Users\\rebey\\AppData\\Local\\Programs\\Python\\Python311\\Lib\\site-packages\\IPython\\core\\interactiveshell.py:284\u001b[0m, in \u001b[0;36m_modified_open\u001b[1;34m(file, *args, **kwargs)\u001b[0m\n\u001b[0;32m    277\u001b[0m \u001b[39mif\u001b[39;00m file \u001b[39min\u001b[39;00m {\u001b[39m0\u001b[39m, \u001b[39m1\u001b[39m, \u001b[39m2\u001b[39m}:\n\u001b[0;32m    278\u001b[0m     \u001b[39mraise\u001b[39;00m \u001b[39mValueError\u001b[39;00m(\n\u001b[0;32m    279\u001b[0m         \u001b[39mf\u001b[39m\u001b[39m\"\u001b[39m\u001b[39mIPython won\u001b[39m\u001b[39m'\u001b[39m\u001b[39mt let you open fd=\u001b[39m\u001b[39m{\u001b[39;00mfile\u001b[39m}\u001b[39;00m\u001b[39m by default \u001b[39m\u001b[39m\"\u001b[39m\n\u001b[0;32m    280\u001b[0m         \u001b[39m\"\u001b[39m\u001b[39mas it is likely to crash IPython. If you know what you are doing, \u001b[39m\u001b[39m\"\u001b[39m\n\u001b[0;32m    281\u001b[0m         \u001b[39m\"\u001b[39m\u001b[39myou can use builtins\u001b[39m\u001b[39m'\u001b[39m\u001b[39m open.\u001b[39m\u001b[39m\"\u001b[39m\n\u001b[0;32m    282\u001b[0m     )\n\u001b[1;32m--> 284\u001b[0m \u001b[39mreturn\u001b[39;00m io_open(file, \u001b[39m*\u001b[39;49margs, \u001b[39m*\u001b[39;49m\u001b[39m*\u001b[39;49mkwargs)\n",
      "\u001b[1;31mFileNotFoundError\u001b[0m: [Errno 2] No such file or directory: '.././fitting/20230903-08-59-54paras_optimized.json'"
     ]
    }
   ],
   "source": [
    "# hat Bounadries von aramfit als y-achsenabschnitt\n",
    "\n",
    "from paramfitt_singlePatient import get_params_bounds\n",
    "bounds = get_params_bounds()\n",
    "\n",
    "# Lade Daten aus dem ersten File\n",
    "with open ('.././fitting/20230903-08-59-54paras_optimized.json', 'r') as jsonfile: #new, correct update function\n",
    "#with open(\"../fitting/20230814-12-52-29paras_optimized.json\", \"r\") as jsonfile:\n",
    "    fit_PTH = json.load(jsonfile)\n",
    "df_PTH = pd.DataFrame([r[\"best_params\"] for r in fit_PTH[\"results\"]])\n",
    "df_PTH = np.power(10, df_PTH)\n",
    "\n",
    "# Lade Daten aus dem zweiten File\n",
    "with open ('.././fitting/20230903-08-59-11paras_optimized.json', 'r') as jsonfile:   #new, correct update function\n",
    "#with open(\"../fitting/20230814-12-54-32paras_optimized.json\", \"r\") as fp:  #thesis plot, with diysfunctional updae function\n",
    "#with open(\"../fitting/20230815-11-08-00paras_optimized.json\", \"r\") as fp:\n",
    "    fit_nonPTH = json.load(jsonfile)\n",
    "df_nonPTH = pd.DataFrame([r[\"best_params\"] for r in fit_nonPTH[\"results\"]])\n",
    "df_nonPTH = np.power(10, df_nonPTH)\n",
    "\n",
    "# Plotten \n",
    "\n",
    "columns = [\n",
    "        't_ART_add',\n",
    "        'M',\n",
    "        'BH_max',\n",
    "        'k_iE_rupture',\n",
    "        'k_E_infect',\n",
    "        'k_M_death',\n",
    "        'I0_death_iE',\n",
    "        #'hill',\n",
    "        't_oiE_death',\n",
    "        'k_BH',\n",
    "        'J_oiEdeath_0',\n",
    "        'Hkt_init',\n",
    "       ]\n",
    "\n",
    "df_PTH = df_PTH[columns]\n",
    "# Plotten der Daten\n",
    "fig, axes = plt.subplots(2, 6, figsize=(12,6),sharex=False)\n",
    "axes = axes.ravel()  # Wandelt die 2D-Matrix von Achsen in ein 1D-Array um\n",
    "\n",
    "for (param, _), ax in zip(df_PTH.items(), axes):  #iteritems() bei ältere pandas verrsion\n",
    "    data_to_plot = [df_PTH[param].dropna().values, df_nonPTH[param].dropna().values]  # Removing NaN values\n",
    "    ax.boxplot(data_to_plot, labels = ['PADH', 'nonPADH'],medianprops= dict(color='black'), patch_artist=True, boxprops=dict(color='black', facecolor='lightskyblue'),widths=.6)\n",
    "    \n",
    "    ax.set_ylabel(param)\n",
    "    \n",
    "    #ax.set_xticklabels()\n",
    "    ax.ticklabel_format(axis = \"y\", style=\"sci\",scilimits = (1,3))\n",
    "    \n",
    "    # Setze die y-Achsenwerte für den aktuellen Parameter\n",
    "    ax.set_ylim(bounds[param])\n",
    "\n",
    "for i in range(11, 12):\n",
    "    fig.delaxes(axes[i])\n",
    "\n",
    "plt.tight_layout()\n",
    "plt.savefig(\"./figures/params_boxplot.pdf\", format=\"pdf\")\n",
    "plt.show()\n",
    "\n",
    "df_PTH"
   ]
  },
  {
   "cell_type": "code",
   "execution_count": null,
   "metadata": {},
   "outputs": [
    {
     "name": "stdout",
     "output_type": "stream",
     "text": [
      "Hkt_init 0.4692642294245123 0.45 | 4.0\n",
      "M 359.7074154115344 40000.0 | -99.0\n",
      "k_E_infect 1.6212604088747193e-06 1e-06 | 62.0\n",
      "k_iE_rupture 1.6816754025368148 1.0 | 68.0\n",
      "k_M_death 48.646858108288136 48.0 | 1.0\n",
      "I0_death_iE 1.9727041641697967e-06 0.0 1.9727041641697967e-06\n",
      "t_oiE_death 10.489696740923893 20.0 | -48.0\n",
      "k_BH 0.0022392072113750507 0.001 | 124.0\n",
      "J_oiEdeath_0 8500.726069511516 7500.0 | 13.0\n",
      "BH_max 2.8279845867117963 10.0 | -72.0\n",
      "t_ART_add 3.3878486215432404 7.0 | -52.0\n"
     ]
    }
   ],
   "source": [
    "params = pf.get_params_guess().keys()\n",
    "ant_model = '.././model/OIE_model.ant'\n",
    "ant_model = te.loada(ant_model)\n",
    "old_params ={key:ant_model.getValue(key) for key in params} \n",
    "\n",
    "with open ('.././fitting/20230903-08-59-54paras_optimized.json', 'r') as jsonfile:    #r= only read #new with fixed function\n",
    "    optimize_results_file = json.load(jsonfile, object_pairs_hook=OrderedDict)\n",
    "new_dict = optimize_results_file[\"results\"][0][\"best_params\"]\n",
    "new_params = {key:10**value for key,value in new_dict.items()}\n",
    "\n",
    "\n",
    "\n",
    "diff = {key: new_params[key] - old_params[key] for key in new_dict.keys()}\n",
    "#print(diff)\n",
    "\n",
    "for key in new_dict.keys():\n",
    "\n",
    "    if old_params[key] == 0:\n",
    "        print(key, new_params[key], old_params[key], diff[key])\n",
    "    else:\n",
    "        print(key, new_params[key], old_params[key], \"|\", round(diff[key]/old_params[key]*100,0))\n",
    "\n",
    "#old_params, new_dict, diff\n",
    "\n",
    "# Simulate the model\n",
    "#res = ant_model.simulate(0, 40, selections=['time']+ all_values)"
   ]
  },
  {
   "attachments": {},
   "cell_type": "markdown",
   "metadata": {},
   "source": []
  }
 ],
 "metadata": {
  "kernelspec": {
   "display_name": "Python 3",
   "language": "python",
   "name": "python3"
  },
  "language_info": {
   "codemirror_mode": {
    "name": "ipython",
    "version": 3
   },
   "file_extension": ".py",
   "mimetype": "text/x-python",
   "name": "python",
   "nbconvert_exporter": "python",
   "pygments_lexer": "ipython3",
   "version": "3.11.4"
  },
  "orig_nbformat": 4
 },
 "nbformat": 4,
 "nbformat_minor": 2
}
