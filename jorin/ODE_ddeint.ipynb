{
 "cells": [
  {
   "cell_type": "markdown",
   "id": "3ebe5d99-2396-4547-85de-1949a46434d0",
   "metadata": {},
   "source": [
    "# Modeling the Effects of Artesunate on Erythropoesis in Malariainfection with ODEs"
   ]
  },
  {
   "cell_type": "code",
   "execution_count": 9,
   "id": "4998ccf7-8adf-4248-ae44-1d589e7a9dc8",
   "metadata": {},
   "outputs": [
    {
     "name": "stdout",
     "output_type": "stream",
     "text": [
      "Collecting ddeint\n",
      "  Using cached ddeint-0.2.tar.gz (6.6 kB)\n",
      "Requirement already satisfied: numpy in /usr/lib/python3/dist-packages (from ddeint) (1.21.5)\n",
      "Requirement already satisfied: scipy in /usr/lib/python3/dist-packages (from ddeint) (1.6.0)\n",
      "Building wheels for collected packages: ddeint\n",
      "  Building wheel for ddeint (setup.py) ... \u001b[?25lerror\n",
      "\u001b[31m  ERROR: Command errored out with exit status 1:\n",
      "   command: /usr/bin/python3 -u -c 'import sys, setuptools, tokenize; sys.argv[0] = '\"'\"'/tmp/pip-install-mgigxsa1/ddeint/setup.py'\"'\"'; __file__='\"'\"'/tmp/pip-install-mgigxsa1/ddeint/setup.py'\"'\"';f=getattr(tokenize, '\"'\"'open'\"'\"', open)(__file__);code=f.read().replace('\"'\"'\\r\\n'\"'\"', '\"'\"'\\n'\"'\"');f.close();exec(compile(code, __file__, '\"'\"'exec'\"'\"'))' bdist_wheel -d /tmp/pip-wheel-x9mdzqsb\n",
      "       cwd: /tmp/pip-install-mgigxsa1/ddeint/\n",
      "  Complete output (57 lines):\n",
      "  running bdist_wheel\n",
      "  running build\n",
      "  running build_py\n",
      "  creating build\n",
      "  creating build/lib\n",
      "  creating build/lib/ddeint\n",
      "  copying ddeint/ddeint.py -> build/lib/ddeint\n",
      "  copying ddeint/version.py -> build/lib/ddeint\n",
      "  copying ddeint/__init__.py -> build/lib/ddeint\n",
      "  /usr/lib/python3/dist-packages/setuptools/command/install.py:34: SetuptoolsDeprecationWarning: setup.py install is deprecated. Use build and pip and other standards-based tools.\n",
      "    warnings.warn(\n",
      "  installing to build/bdist.linux-x86_64/wheel\n",
      "  running install\n",
      "  running install_lib\n",
      "  Traceback (most recent call last):\n",
      "    File \"<string>\", line 1, in <module>\n",
      "    File \"/tmp/pip-install-mgigxsa1/ddeint/setup.py\", line 9, in <module>\n",
      "      setup(\n",
      "    File \"/usr/lib/python3/dist-packages/setuptools/__init__.py\", line 87, in setup\n",
      "      return distutils.core.setup(**attrs)\n",
      "    File \"/usr/lib/python3/dist-packages/setuptools/_distutils/core.py\", line 185, in setup\n",
      "      return run_commands(dist)\n",
      "    File \"/usr/lib/python3/dist-packages/setuptools/_distutils/core.py\", line 201, in run_commands\n",
      "      dist.run_commands()\n",
      "    File \"/usr/lib/python3/dist-packages/setuptools/_distutils/dist.py\", line 973, in run_commands\n",
      "      self.run_command(cmd)\n",
      "    File \"/usr/lib/python3/dist-packages/setuptools/dist.py\", line 1217, in run_command\n",
      "      super().run_command(command)\n",
      "    File \"/usr/lib/python3/dist-packages/setuptools/_distutils/dist.py\", line 992, in run_command\n",
      "      cmd_obj.run()\n",
      "    File \"/usr/lib/python3/dist-packages/wheel/bdist_wheel.py\", line 259, in run\n",
      "      self.run_command('install')\n",
      "    File \"/usr/lib/python3/dist-packages/setuptools/_distutils/cmd.py\", line 319, in run_command\n",
      "      self.distribution.run_command(command)\n",
      "    File \"/usr/lib/python3/dist-packages/setuptools/dist.py\", line 1217, in run_command\n",
      "      super().run_command(command)\n",
      "    File \"/usr/lib/python3/dist-packages/setuptools/_distutils/dist.py\", line 992, in run_command\n",
      "      cmd_obj.run()\n",
      "    File \"/usr/lib/python3/dist-packages/setuptools/command/install.py\", line 68, in run\n",
      "      return orig.install.run(self)\n",
      "    File \"/usr/lib/python3/dist-packages/setuptools/_distutils/command/install.py\", line 709, in run\n",
      "      self.run_command(cmd_name)\n",
      "    File \"/usr/lib/python3/dist-packages/setuptools/_distutils/cmd.py\", line 319, in run_command\n",
      "      self.distribution.run_command(command)\n",
      "    File \"/usr/lib/python3/dist-packages/setuptools/dist.py\", line 1217, in run_command\n",
      "      super().run_command(command)\n",
      "    File \"/usr/lib/python3/dist-packages/setuptools/_distutils/dist.py\", line 991, in run_command\n",
      "      cmd_obj.ensure_finalized()\n",
      "    File \"/usr/lib/python3/dist-packages/setuptools/_distutils/cmd.py\", line 109, in ensure_finalized\n",
      "      self.finalize_options()\n",
      "    File \"/usr/lib/python3/dist-packages/setuptools/command/install_lib.py\", line 17, in finalize_options\n",
      "      self.set_undefined_options('install',('install_layout','install_layout'))\n",
      "    File \"/usr/lib/python3/dist-packages/setuptools/_distutils/cmd.py\", line 297, in set_undefined_options\n",
      "      setattr(self, dst_option, getattr(src_cmd_obj, src_option))\n",
      "    File \"/usr/lib/python3/dist-packages/setuptools/_distutils/cmd.py\", line 105, in __getattr__\n",
      "      raise AttributeError(attr)\n",
      "  AttributeError: install_layout\n",
      "  ----------------------------------------\u001b[0m\n",
      "\u001b[31m  ERROR: Failed building wheel for ddeint\u001b[0m\n",
      "\u001b[?25h  Running setup.py clean for ddeint\n",
      "Failed to build ddeint\n",
      "Installing collected packages: ddeint\n",
      "    Running setup.py install for ddeint ... \u001b[?25lerror\n",
      "\u001b[31m    ERROR: Command errored out with exit status 1:\n",
      "     command: /usr/bin/python3 -u -c 'import sys, setuptools, tokenize; sys.argv[0] = '\"'\"'/tmp/pip-install-mgigxsa1/ddeint/setup.py'\"'\"'; __file__='\"'\"'/tmp/pip-install-mgigxsa1/ddeint/setup.py'\"'\"';f=getattr(tokenize, '\"'\"'open'\"'\"', open)(__file__);code=f.read().replace('\"'\"'\\r\\n'\"'\"', '\"'\"'\\n'\"'\"');f.close();exec(compile(code, __file__, '\"'\"'exec'\"'\"'))' install --record /tmp/pip-record-twesm7ia/install-record.txt --single-version-externally-managed --user --prefix= --compile --install-headers /home/beyer/.local/include/python3.8/ddeint\n",
      "         cwd: /tmp/pip-install-mgigxsa1/ddeint/\n",
      "    Complete output (47 lines):\n",
      "    running install\n",
      "    /usr/lib/python3/dist-packages/setuptools/command/install.py:34: SetuptoolsDeprecationWarning: setup.py install is deprecated. Use build and pip and other standards-based tools.\n",
      "      warnings.warn(\n",
      "    running build\n",
      "    running build_py\n",
      "    creating build\n",
      "    creating build/lib\n",
      "    creating build/lib/ddeint\n",
      "    copying ddeint/ddeint.py -> build/lib/ddeint\n",
      "    copying ddeint/version.py -> build/lib/ddeint\n",
      "    copying ddeint/__init__.py -> build/lib/ddeint\n",
      "    running install_lib\n",
      "    Traceback (most recent call last):\n",
      "      File \"<string>\", line 1, in <module>\n",
      "      File \"/tmp/pip-install-mgigxsa1/ddeint/setup.py\", line 9, in <module>\n",
      "        setup(\n",
      "      File \"/usr/lib/python3/dist-packages/setuptools/__init__.py\", line 87, in setup\n",
      "        return distutils.core.setup(**attrs)\n",
      "      File \"/usr/lib/python3/dist-packages/setuptools/_distutils/core.py\", line 185, in setup\n",
      "        return run_commands(dist)\n",
      "      File \"/usr/lib/python3/dist-packages/setuptools/_distutils/core.py\", line 201, in run_commands\n",
      "        dist.run_commands()\n",
      "      File \"/usr/lib/python3/dist-packages/setuptools/_distutils/dist.py\", line 973, in run_commands\n",
      "        self.run_command(cmd)\n",
      "      File \"/usr/lib/python3/dist-packages/setuptools/dist.py\", line 1217, in run_command\n",
      "        super().run_command(command)\n",
      "      File \"/usr/lib/python3/dist-packages/setuptools/_distutils/dist.py\", line 992, in run_command\n",
      "        cmd_obj.run()\n",
      "      File \"/usr/lib/python3/dist-packages/setuptools/command/install.py\", line 68, in run\n",
      "        return orig.install.run(self)\n",
      "      File \"/usr/lib/python3/dist-packages/setuptools/_distutils/command/install.py\", line 709, in run\n",
      "        self.run_command(cmd_name)\n",
      "      File \"/usr/lib/python3/dist-packages/setuptools/_distutils/cmd.py\", line 319, in run_command\n",
      "        self.distribution.run_command(command)\n",
      "      File \"/usr/lib/python3/dist-packages/setuptools/dist.py\", line 1217, in run_command\n",
      "        super().run_command(command)\n",
      "      File \"/usr/lib/python3/dist-packages/setuptools/_distutils/dist.py\", line 991, in run_command\n",
      "        cmd_obj.ensure_finalized()\n",
      "      File \"/usr/lib/python3/dist-packages/setuptools/_distutils/cmd.py\", line 109, in ensure_finalized\n",
      "        self.finalize_options()\n",
      "      File \"/usr/lib/python3/dist-packages/setuptools/command/install_lib.py\", line 17, in finalize_options\n",
      "        self.set_undefined_options('install',('install_layout','install_layout'))\n",
      "      File \"/usr/lib/python3/dist-packages/setuptools/_distutils/cmd.py\", line 297, in set_undefined_options\n",
      "        setattr(self, dst_option, getattr(src_cmd_obj, src_option))\n",
      "      File \"/usr/lib/python3/dist-packages/setuptools/_distutils/cmd.py\", line 105, in __getattr__\n",
      "        raise AttributeError(attr)\n",
      "    AttributeError: install_layout\n",
      "    ----------------------------------------\u001b[0m\n",
      "\u001b[31mERROR: Command errored out with exit status 1: /usr/bin/python3 -u -c 'import sys, setuptools, tokenize; sys.argv[0] = '\"'\"'/tmp/pip-install-mgigxsa1/ddeint/setup.py'\"'\"'; __file__='\"'\"'/tmp/pip-install-mgigxsa1/ddeint/setup.py'\"'\"';f=getattr(tokenize, '\"'\"'open'\"'\"', open)(__file__);code=f.read().replace('\"'\"'\\r\\n'\"'\"', '\"'\"'\\n'\"'\"');f.close();exec(compile(code, __file__, '\"'\"'exec'\"'\"'))' install --record /tmp/pip-record-twesm7ia/install-record.txt --single-version-externally-managed --user --prefix= --compile --install-headers /home/beyer/.local/include/python3.8/ddeint Check the logs for full command output.\u001b[0m\n",
      "\u001b[?25h\u001b[31mERROR: Could not find a version that satisfies the requirement pylab (from versions: none)\u001b[0m\n",
      "\u001b[31mERROR: No matching distribution found for pylab\u001b[0m\n"
     ]
    }
   ],
   "source": [
    "import sys\n",
    "!{sys.executable} -m pip install ddeint\n",
    "\n"
   ]
  },
  {
   "cell_type": "code",
   "execution_count": 10,
   "id": "10660017-ee74-4756-91b4-f41424e20049",
   "metadata": {},
   "outputs": [
    {
     "name": "stdout",
     "output_type": "stream",
     "text": [
      "\u001b[31mERROR: Could not find a version that satisfies the requirement pylab (from versions: none)\u001b[0m\n",
      "\u001b[31mERROR: No matching distribution found for pylab\u001b[0m\n"
     ]
    }
   ],
   "source": [
    "!{sys.executable} -m pip install pylab"
   ]
  },
  {
   "cell_type": "code",
   "execution_count": 3,
   "id": "783ce89f-dfd2-43fe-b516-10a45f6d37a6",
   "metadata": {},
   "outputs": [
    {
     "ename": "ModuleNotFoundError",
     "evalue": "No module named 'ddeint'",
     "output_type": "error",
     "traceback": [
      "\u001b[0;31m---------------------------------------------------------------------------\u001b[0m",
      "\u001b[0;31mModuleNotFoundError\u001b[0m                       Traceback (most recent call last)",
      "Cell \u001b[0;32mIn [3], line 3\u001b[0m\n\u001b[1;32m      1\u001b[0m \u001b[38;5;66;03m#packages\u001b[39;00m\n\u001b[1;32m      2\u001b[0m \u001b[38;5;28;01mfrom\u001b[39;00m \u001b[38;5;21;01mpylab\u001b[39;00m \u001b[38;5;28;01mimport\u001b[39;00m cos, linspace, subplots\n\u001b[0;32m----> 3\u001b[0m \u001b[38;5;28;01mfrom\u001b[39;00m \u001b[38;5;21;01mddeint\u001b[39;00m \u001b[38;5;28;01mimport\u001b[39;00m ddeint\n",
      "\u001b[0;31mModuleNotFoundError\u001b[0m: No module named 'ddeint'"
     ]
    }
   ],
   "source": [
    "#packages\n",
    "\n",
    "\n",
    "from pylab import cos, linspace, subplots\n",
    "from ddeint import ddeint"
   ]
  },
  {
   "cell_type": "code",
   "execution_count": 4,
   "id": "e62b4bf8-eb6d-46ef-a04e-d94ccff555e1",
   "metadata": {},
   "outputs": [
    {
     "ename": "NameError",
     "evalue": "name 'ddeint' is not defined",
     "output_type": "error",
     "traceback": [
      "\u001b[0;31m---------------------------------------------------------------------------\u001b[0m",
      "\u001b[0;31mNameError\u001b[0m                                 Traceback (most recent call last)",
      "Cell \u001b[0;32mIn [4], line 10\u001b[0m\n\u001b[1;32m      6\u001b[0m     \u001b[38;5;28;01mreturn\u001b[39;00m \u001b[38;5;241m1\u001b[39m\n\u001b[1;32m      9\u001b[0m tt \u001b[38;5;241m=\u001b[39m linspace(\u001b[38;5;241m0\u001b[39m, \u001b[38;5;241m30\u001b[39m, \u001b[38;5;241m2000\u001b[39m)\n\u001b[0;32m---> 10\u001b[0m yy \u001b[38;5;241m=\u001b[39m \u001b[43mddeint\u001b[49m(model, values_before_zero, tt)\n\u001b[1;32m     12\u001b[0m fig, ax \u001b[38;5;241m=\u001b[39m subplots(\u001b[38;5;241m1\u001b[39m, figsize\u001b[38;5;241m=\u001b[39m(\u001b[38;5;241m4\u001b[39m, \u001b[38;5;241m4\u001b[39m))\n\u001b[1;32m     13\u001b[0m ax\u001b[38;5;241m.\u001b[39mplot(tt, yy)\n",
      "\u001b[0;31mNameError\u001b[0m: name 'ddeint' is not defined"
     ]
    }
   ],
   "source": [
    "def model(Y, t):\n",
    "    return -Y(t - 3 * cos(Y(t)) ** 2)\n",
    "\n",
    "\n",
    "def values_before_zero(t):\n",
    "    return 1\n",
    "\n",
    "\n",
    "tt = linspace(0, 30, 2000)\n",
    "yy = ddeint(model, values_before_zero, tt)\n",
    "\n",
    "fig, ax = subplots(1, figsize=(4, 4))\n",
    "ax.plot(tt, yy)\n",
    "ax.figure.savefig(\"variable_delay.jpeg\")"
   ]
  },
  {
   "cell_type": "code",
   "execution_count": null,
   "id": "baaece44-314d-40c6-8664-d8f17c3869c1",
   "metadata": {},
   "outputs": [],
   "source": []
  }
 ],
 "metadata": {
  "kernelspec": {
   "display_name": "Python 3",
   "language": "python",
   "name": "python3"
  },
  "language_info": {
   "codemirror_mode": {
    "name": "ipython",
    "version": 3
   },
   "file_extension": ".py",
   "mimetype": "text/x-python",
   "name": "python",
   "nbconvert_exporter": "python",
   "pygments_lexer": "ipython3",
   "version": "3.8.10"
  }
 },
 "nbformat": 4,
 "nbformat_minor": 5
}
