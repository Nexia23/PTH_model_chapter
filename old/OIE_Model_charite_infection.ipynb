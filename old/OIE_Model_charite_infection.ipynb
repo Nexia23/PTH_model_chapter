{
 "cells": [
  {
   "cell_type": "markdown",
   "metadata": {},
   "source": [
    "# Modeling the effects of artesunate on erythropoesis in malariainfection"
   ]
  },
  {
   "cell_type": "markdown",
   "metadata": {
    "tags": []
   },
   "source": [
    "erste Version ohne Immunsystem, Medikament, aber mit Erythropoese,Parasit"
   ]
  },
  {
   "cell_type": "code",
   "execution_count": 7,
   "metadata": {},
   "outputs": [],
   "source": [
    "#packages\n",
    "import pandas as pd\n",
    "import seaborn as sns\n",
    "import numpy as np\n",
    "import tellurium as te\n",
    "import matplotlib.pyplot as plt"
   ]
  },
  {
   "cell_type": "markdown",
   "metadata": {},
   "source": [
    "## Data von Florian"
   ]
  },
  {
   "cell_type": "code",
   "execution_count": 8,
   "metadata": {},
   "outputs": [
    {
     "data": {
      "text/html": [
       "<div>\n",
       "<style scoped>\n",
       "    .dataframe tbody tr th:only-of-type {\n",
       "        vertical-align: middle;\n",
       "    }\n",
       "\n",
       "    .dataframe tbody tr th {\n",
       "        vertical-align: top;\n",
       "    }\n",
       "\n",
       "    .dataframe thead th {\n",
       "        text-align: right;\n",
       "    }\n",
       "</style>\n",
       "<table border=\"1\" class=\"dataframe\">\n",
       "  <thead>\n",
       "    <tr style=\"text-align: right;\">\n",
       "      <th></th>\n",
       "      <th>Tag</th>\n",
       "      <th>OIE ‰</th>\n",
       "      <th>infected ‰</th>\n",
       "      <th>Hb (g/l)</th>\n",
       "      <th>Retis ‰</th>\n",
       "    </tr>\n",
       "  </thead>\n",
       "  <tbody>\n",
       "    <tr>\n",
       "      <th>0</th>\n",
       "      <td>1.0</td>\n",
       "      <td>35.849057</td>\n",
       "      <td>391.644205</td>\n",
       "      <td>9.6</td>\n",
       "      <td>NaN</td>\n",
       "    </tr>\n",
       "    <tr>\n",
       "      <th>1</th>\n",
       "      <td>NaN</td>\n",
       "      <td>NaN</td>\n",
       "      <td>NaN</td>\n",
       "      <td>NaN</td>\n",
       "      <td>NaN</td>\n",
       "    </tr>\n",
       "    <tr>\n",
       "      <th>2</th>\n",
       "      <td>3.0</td>\n",
       "      <td>199.074074</td>\n",
       "      <td>87.268519</td>\n",
       "      <td>8.1</td>\n",
       "      <td>NaN</td>\n",
       "    </tr>\n",
       "    <tr>\n",
       "      <th>3</th>\n",
       "      <td>4.0</td>\n",
       "      <td>350.279330</td>\n",
       "      <td>0.000000</td>\n",
       "      <td>7.6</td>\n",
       "      <td>13.3</td>\n",
       "    </tr>\n",
       "    <tr>\n",
       "      <th>4</th>\n",
       "      <td>NaN</td>\n",
       "      <td>NaN</td>\n",
       "      <td>NaN</td>\n",
       "      <td>NaN</td>\n",
       "      <td>NaN</td>\n",
       "    </tr>\n",
       "  </tbody>\n",
       "</table>\n",
       "</div>"
      ],
      "text/plain": [
       "   Tag       OIE ‰  infected ‰  Hb (g/l)  Retis ‰\n",
       "0  1.0   35.849057  391.644205       9.6      NaN\n",
       "1  NaN         NaN         NaN       NaN      NaN\n",
       "2  3.0  199.074074   87.268519       8.1      NaN\n",
       "3  4.0  350.279330    0.000000       7.6     13.3\n",
       "4  NaN         NaN         NaN       NaN      NaN"
      ]
     },
     "execution_count": 8,
     "metadata": {},
     "output_type": "execute_result"
    }
   ],
   "source": [
    "# import data from florian\n",
    "data_df = pd.read_csv('./PADH_sample_set.csv')\n",
    "data_df = data_df[['Tag', 'OIE ‰', 'infected ‰', 'Hb (g/l)', 'Retis ‰']]\n",
    "\n",
    "data_df.head()"
   ]
  },
  {
   "cell_type": "markdown",
   "metadata": {
    "tags": []
   },
   "source": [
    "![model schmeme](schema_erythropoese_6.svg)\n"
   ]
  },
  {
   "cell_type": "markdown",
   "metadata": {},
   "source": [
    "## Model"
   ]
  },
  {
   "cell_type": "code",
   "execution_count": 9,
   "metadata": {},
   "outputs": [
    {
     "name": "stdout",
     "output_type": "stream",
     "text": [
      "5567010.30927835 46391.75257731959 453.3712612598663 0.008333333333333333 5613402.06185567\n",
      "40.77822970381671 0.001528873221107508\n"
     ]
    }
   ],
   "source": [
    "### Steady State\n",
    "\n",
    "t_R_aging= 1          \n",
    "t_E_death= 120 \n",
    "Hkt      = 0.45\n",
    "Vol_R    = 100e-15        #in l, Jorin\n",
    "Vol_E    = 80e-15         #=80 fL, in l, Jorin, =MCH\n",
    "Vol_blood= 1e-6          # =1µl, in l, gesamtes Blutvolumen \n",
    "\n",
    "# E0\n",
    "## E0 aus Hämatokrit-wert abgeleitet\n",
    "##Hämatokrit Formel nach E umgestellt, \n",
    "##E0 = ((Hkt * Vol_blood) - (R0 * Vol_R))/Vol_E\n",
    "## einfügen von R0, nach E0 umstellen\n",
    "\n",
    "E0 = (Hkt * Vol_blood * (t_E_death/2))/ ( ((t_E_death/2)* Vol_E) + ((t_R_aging/2)*Vol_R))\n",
    "\n",
    "R0   = E0 * t_R_aging/ t_E_death \n",
    "\n",
    "#P0  = (R0 * (k_R_death +k_R_aging))/ (2^10 * k_P_aging)   \n",
    "P0  = (R0* (0.001 + (np.log(2) / (1/2))))/ ((2**10) *np.log(2) / (10/2))\n",
    "\n",
    "print (E0, R0, P0, R0/E0, R0+E0)\n",
    "\n",
    "#EPO flux\n",
    "b   = 100\n",
    "c   = 0.04\n",
    "hemoglobin= 137.25001\n",
    "EPO = 15\n",
    "P   = P0\n",
    "d = -np.log(0.5)/P\n",
    "a = EPO * (1-np.exp(-d*P))*(1+np.exp((hemoglobin-b)*c))\n",
    "J_EPO_prod = a/ (1+np.exp((hemoglobin-b)*c))\n",
    "J_EPO_decay = EPO * (1-np.exp(-d*P))\n",
    "\n",
    "#LDH\n",
    "LDH = 180  #U/l\n",
    "t_halb_LDH_decay= 4\n",
    "J_E_death = 64312.62500040728\n",
    "J_R_death = 46.39175257731957\n",
    "LDH_decay=  LDH * np.log(2)/t_halb_LDH_decay\n",
    "LDH_conc_E = (LDH_decay * Vol_blood) / (J_E_death* Vol_E +J_R_death * Vol_R)\n",
    "\n",
    "print(f'E0:{E0} \\nR0:{R0} \\nP0:{P0} \\na:{a}  \\nd:{d} \\nLDH_conc_E:{LDH_conc_E} ')"
   ]
  },
  {
   "cell_type": "code",
   "execution_count": 10,
   "metadata": {},
   "outputs": [
    {
     "name": "stdout",
     "output_type": "stream",
     "text": [
      "-4.999999999999998 3.25\n"
     ]
    },
    {
     "data": {
      "image/png": "[encoded data removed]",
      "text/plain": [
       "<Figure size 432x288 with 1 Axes>"
      ]
     },
     "metadata": {
      "needs_background": "light"
     },
     "output_type": "display_data"
    },
    {
     "data": {
      "image/png": "[encoded data removed]",
      "text/plain": [
       "<Figure size 432x288 with 1 Axes>"
      ]
     },
     "metadata": {
      "needs_background": "light"
     },
     "output_type": "display_data"
    }
   ],
   "source": [
    "#RPI Zusammenhang Hamatokrit und Reifungstage von Retis in peripheren Blut (R) und Retis die in Knochenmark noch sind (Teil von P)\n",
    "# https://www.labopart.de/einsender/formelberechnungen/rpi/\n",
    "# s. Manuskript für Formel\n",
    "\n",
    "HK = [0.15, 0.25, 0.35, 0.45] \n",
    "days_T_R_aging = [2.5, 2.0, 1.5, 1.0]\n",
    "#lineare Regression for function:  y = m*x +b\n",
    "m,b = np.polyfit(HK, days_T_R_aging, 1)\n",
    "print(m,b)\n",
    "plt.plot(days_T_R_aging, days_T_R_aging)\n",
    "plt.show()\n",
    "\n",
    "\n",
    "#x-values, and y Functions for R aging and T aging\n",
    "Hkt = np.linspace(0, 0.5, 100)\n",
    "T_P_aging = 5 * Hkt + 7.75\n",
    "T_R_aging =-5 * Hkt + 3.25\n",
    "T_ges     = T_P_aging + T_R_aging\n",
    "\n",
    "fig = plt.figure()\n",
    "ax = fig.add_subplot(1, 1, 1)\n",
    "\n",
    "plt.plot(Hkt,T_ges, 'r', label='T_ges')\n",
    "plt.plot(Hkt,T_R_aging, 'b', label='T_R_aging')\n",
    "plt.plot(Hkt,T_P_aging, 'c', label='T_P_aging')\n",
    "plt.legend(loc='upper right')\n",
    "plt.show()\n",
    "\n"
   ]
  },
  {
   "cell_type": "code",
   "execution_count": 24,
   "metadata": {},
   "outputs": [],
   "source": [
    "OIE_model = \"\"\"\n",
    "#species initiation\n",
    "EPO = 15       #in mU/mL , (Thi,2010) erreicht nach (El Hassan 1997)max. 1000 mU/mL (miliunits)\n",
    "P   = 453.3712612598663    \n",
    "R   = 46391.75257731959   #für SS berechnet\n",
    "E   = 5567010.30927835      #cells, bezieht sich auf gesamtvolumen 1 mikroliter\n",
    "niE = 0        #\n",
    "iE  = 0        #in cells/(kg body weight*10^11)\n",
    "diE = 0\n",
    "OIE = 0        #once-infected Erys\n",
    "M   = 1e3      #Merozoiten,(Austin, 1997) pro mikroliter (10^6 cells/ml => 10^3 cells/mikroliter)\n",
    "A   = 0        #Antikörper\n",
    "I   = 0        #Immun cells, bei Infektion 10^-2\n",
    "LDH = 180      # U/l\n",
    "\n",
    "#Reactions \n",
    "##erythropoisis\n",
    "EPOprod:       -> EPO   ; J_EPO_prod             \n",
    "EPOdecay:  EPO ->       ; J_EPO_decay\n",
    "Pbirth:        -> P     ; J_P_birth\n",
    "Pdeath:      P ->       ; J_P_death\n",
    "Page:        P -> 1024R ; J_P_aging     # Vorläufer teilen sich ca. 10x -> 2**10\n",
    "Rdeath:      R ->       ; J_R_death \n",
    "Raging:      R -> E     ; J_R_aging        \n",
    "Edeath:      E ->       ; J_E_death       \n",
    "##parasite lifecircle \n",
    "infect:    E+M -> iE    ; J_E_infect     \n",
    "iEdeath:    iE ->       ; J_iE_death     \n",
    "iErupture:  iE -> 16M   ; J_iE_rupture  #Tumwiine (2008)\n",
    "Mdeath:      M ->       ; J_M_death\n",
    "##Artesunate treatment\n",
    "iE_ART:     iE -> diE   ; J_iE_ART     \n",
    "diE_pitt:  diE -> oiE   ; J_diE_pitt \n",
    "diE_death: diE ->       ; J_diE_death \n",
    "oiEdeath:  oiE ->       ; J_oiE_death\n",
    "##LDH, haptoglobin\n",
    "LDHrelease:       -> LDH  ; J_LDH_release   \n",
    "LDHdecay:     LDH ->      ; J_LDH_decay \n",
    "\n",
    "#parameter initiation\n",
    "#Lebenszeiten t\n",
    "##Erythropoese\n",
    "t_P_aging   := 5 * Hkt + 7.75          #in days, Entwicklung von Stammzelle zum Retikulozyt dauert ca. 5-9 Tage, plus 3 Tage die er schon retikulozyte ist aber noch in Rückenmark\n",
    "t_R_aging   :=-5 * Hkt + 3.25          #in days, Entwicklung R -> E dauert ca 4 Tage (3 tage knochenmark, 1 Tage im peripheren Blut)-> wir betrachten nur Retis in peripheren Blut, bei niedrigen Hkt verlassen Retis eher Knochenmark,  reifen länger im Blut\n",
    "t_E_death   = 120       #in 1/days, 120 Tage E Lebensdauer s. Jorins Quellen\n",
    "##Infection with parasite\n",
    "t_iE_rupture= 4          #in days, dauert ca 4 Tage bis Ruptur, sinuskurvig (2010 Th)\n",
    "##Artesunate treatment\n",
    "t_diE_pitt  = 0.25       #in days, bei Medikamentengabe nach 8h Maximum an gepitteten RBCs\n",
    "t_oiE_death = 10         #in days, Lebenspanne von 7-14 Tage(Fanello,2017), 7-21 (Arguin 2014) -> dort Verweise nachgehen\n",
    "##LDH\n",
    "t_halb_LDH_decay = 4            #(3-5 Tage), https://www.medicoconsult.de/ldh/\n",
    "\n",
    "\n",
    "\n",
    "#random Zahlen\n",
    "KI_P_death = 15          #EPO Wert bei gesunden Menschen\n",
    "##Konstanten für EPO- GG\n",
    "b = 100\n",
    "c = 0.04\n",
    "d = -log(0.5)/P\n",
    "a = EPO * (1-exp(-d*P))*(1+exp((Hb-b)*c))\n",
    "\n",
    "\n",
    "#Assignments\n",
    "##Erythropoese\n",
    "J_EPO_prod  := k_EPO_prod         # hier später Abhängigkeit von, oiE, diE, iE einfügen (Ma, 2019) vlt (Hassan 2009)\n",
    "J_EPO_decay := EPO* k_EPO_decay\n",
    "J_P_birth    = k_P_birth   \n",
    "J_P_death   := P * k_P_death\n",
    "J_P_aging   := P * k_P_aging\n",
    "J_R_death   := R * k_R_death\n",
    "J_R_aging   := R * k_R_aging\n",
    "J_E_death   := E * k_E_death\n",
    "##Infection with parasite\n",
    "J_E_infect  := E*M* k_E_infect       # einbezug parasit?, E ersmal als Abhängigkeit ausgelassen da am Anfang E >> M -> mit Jorin absprechen+\n",
    "J_iE_death  := iE * k_iE_death       #einbezug antibodies, spleen\n",
    "J_iE_rupture:= iE * k_iE_rupture     #16-32M s.Cowman 2016, Anderson 1989, Diebner 2000\n",
    "J_M_death   := M  * k_M_death\n",
    "##Artesunate treatment\n",
    "J_iE_ART    := iE  * k_iE_ART       #einbezug artesunat\n",
    "J_diE_pitt  := diE * k_diE_pitt     #spleen\n",
    "J_diE_death := diE * k_diE_death\n",
    "J_oiE_death := oiE * k_oiE_death\n",
    "##LDH\n",
    "J_LDH_release := (LDH_conc_E/ Vol_blood)* (J_E_death*Vol_E + J_iE_death*Vol_E + J_iE_rupture*Vol_E + J_R_death*Vol_R) \n",
    "J_LDH_decay   := LDH * k_LDH_decay\n",
    "\n",
    "#Raten\n",
    "##Erythropoese\n",
    "k_EPO_prod := a/(1+exp((Hb-b)*c) )    # in #cell/day\n",
    "k_EPO_decay:= 1-exp(-P*d)             # in 1/days, (Ma, 2009)\n",
    "k_P_birth   = P * (k_P_death + k_P_aging)\n",
    "k_P_death  := 1/(1+ (EPO/KI_P_death))     #geraten, muss hoch sein, da wenn EPO da ist, dese so stark erringert wird dass Erythropoese verstrkt wird \n",
    "k_P_aging  := ln(2) / (t_P_aging/2)       #in 1/days\n",
    "k_R_death   = 0.001                       #in 1/days,  geraten\n",
    "k_R_aging  := ln(2) / (t_R_aging/2)       #in 1/days \n",
    "k_E_death  := ln(2) / (t_E_death/2)       #in 1/days       #verkürzung bei Infektion: k_E_alter; 0.15aus komischen paper 2022\n",
    "##infection with parasit                       \n",
    "k_E_infect  = 2e-6                      #in 1/mikroliter*day ((Austin, 1997)\n",
    "k_iE_death  = 0                         #in 1/days, vereinfacht in Austin(1998)  (0.025  Ma 2019)\n",
    "k_iE_rupture= 1             #ln(2) / (t_iE_rupture/2)    #in 1/days, Austin(1998)\n",
    "k_M_death   = 48                          #48 in 1/days 2010 Thi (48)\n",
    "##Artesunate treatment\n",
    "k_iE_ART    = 0                           # 0.01  geschätzt ohne Medikament, , ART hat 1h Halbwertszeit (Tilley 2016)\n",
    "k_diE_pitt  = ln(2) / (t_diE_pitt  /2)    # bei Medikamentengabe nach 8h Maximum an gepitteten RBCs\n",
    "k_diE_death = 0.001\n",
    "k_oiE_death = ln(2) / (t_oiE_death/2)     #in 1/days               \n",
    "##LDH, haptoglobin\n",
    "k_LDH_decay  = ln(2) / t_halb_LDH_decay\n",
    "              \n",
    "#Hämoglobin           \n",
    "#(noch diE, niE Volumen, iE, Konzentrationen hinzufügen)\n",
    "##Volumen\n",
    "Vol_R    = 100e-15        #in l, Jorin\n",
    "Vol_E    = 80e-15         #=80 fL, in l, Jorin, =MCH\n",
    "Vol_iE   = 80e-15         #in l,   Jorin\n",
    "#Vol_diE = 80e-15         #auf gleiches Volumen wie iE geschätzt\n",
    "Vol_oiE  = 50e-15         #in l, Jorin\n",
    "Vol_blood= 1e-6           # =1µl, in l, gesamtes Blutvolumen \n",
    "##Hb Konzentrationen\n",
    "Hb_conc_R    = 300        #in g/l (Piva,2014) \n",
    "Hb_conc_E    = 340        #in g/l,  =MCHC, https://www.ucsfhealth.org/medical-tests/rbc-indices    \n",
    "Hb_conc_iE   = 177        #in g/l  (Hanssen,2012)\n",
    "#Hb_conc_diE =\n",
    "#Hb_conc_oiE = \n",
    "#Hämatokrit, Hämoglobinhttps://www.labopart.de/einsender/formelberechnungen/rpi/\n",
    "Hkt      := (Vol_E * E + Vol_R * R + Vol_iE * iE) / Vol_blood                             #0.4 ~ 40 %, #hier fehlen noch MCHC von infected Zellen https://www.charite.de/fileadmin/user_upload/microsites/m_cc05/ilp/referenzdb/30451.htm    https://www.labor-und-diagnose-2020.de/k15.html\n",
    "Hb       := (Vol_E * E * Hb_conc_E + Vol_R * R * Hb_conc_R +  Vol_iE * iE * Hb_conc_iE ) / Vol_blood     #in g/l      https://www.charite.de/fileadmin/user_upload/microsites/m_cc05/ilp/referenzdb/30459.htm\n",
    "Hb_g_dl  := Hb/10\n",
    "\n",
    "#LDH & Haptoglobin\n",
    "LDH_conc_E =  6062.500000000001  #U/l  #https://www.ncbi.nlm.nih.gov/books/NBK557536/?report=printable\n",
    "\n",
    "J_P_try := 0\n",
    "\n",
    "#Parasitemie\n",
    "p := iE / (E + R + iE + oiE + diE)  \n",
    "\n",
    "#RPI\n",
    "R_percent := 100* R/(R+E)\n",
    "shift     := -5 * Hkt + 3.25  # in days\n",
    "RPI       := R_percent * Hkt/ (shift * 0.45) \n",
    "      \n",
    "\"\"\""
   ]
  },
  {
   "cell_type": "markdown",
   "metadata": {},
   "source": [
    "## Simulation"
   ]
  },
  {
   "cell_type": "code",
   "execution_count": 25,
   "metadata": {},
   "outputs": [],
   "source": [
    "OIE = te.loada(OIE_model)\n",
    "#OIE.exportToSBML('./OIE.xml')"
   ]
  },
  {
   "cell_type": "code",
   "execution_count": 68,
   "metadata": {},
   "outputs": [
    {
     "name": "stdout",
     "output_type": "stream",
     "text": [
      "5567010.30927835\n",
      "2.126705285177594\n"
     ]
    },
    {
     "data": {
      "image/png": "[encoded data removed]",
      "text/plain": [
       "<Figure size 432x288 with 1 Axes>"
      ]
     },
     "metadata": {},
     "output_type": "display_data"
    },
    {
     "name": "stdout",
     "output_type": "stream",
     "text": [
      "0.0\n"
     ]
    }
   ],
   "source": [
    "OIE = te.loada(OIE_model)\n",
    "print(OIE.iE+ OIE.E)\n",
    "#OIE.setValue(\"E\", 2*10**6) \n",
    "result = OIE.simulate (0, 200, 1000)\n",
    "print(OIE.RPI)\n",
    "OIE.plot(result)\n",
    "print(OIE.diE)\n"
   ]
  },
  {
   "cell_type": "code",
   "execution_count": 64,
   "metadata": {
    "tags": []
   },
   "outputs": [
    {
     "name": "stdout",
     "output_type": "stream",
     "text": [
      "1000.0\n"
     ]
    },
    {
     "data": {
      "image/png": "[encoded data removed]",
      "text/plain": [
       "<Figure size 432x288 with 1 Axes>"
      ]
     },
     "metadata": {},
     "output_type": "display_data"
    },
    {
     "data": {
      "text/plain": [
       "(420.6464931905747, 0.06594098886118702)"
      ]
     },
     "execution_count": 64,
     "metadata": {},
     "output_type": "execute_result"
    }
   ],
   "source": [
    "OIE = te.loada(OIE_model)\n",
    "#OIE.setValue(\"k_E_infect\",  1e-6) \n",
    "#OIE.setValue(\"k_iE_death\", 0.01) \n",
    "print(OIE.M)\n",
    "\n",
    "result = OIE.simulate (0, 300,5000, ['p', \"LDH\"])\n",
    "OIE.plot(result)\n",
    "\n",
    "OIE.LDH, OIE.p"
   ]
  },
  {
   "cell_type": "code",
   "execution_count": 31,
   "metadata": {},
   "outputs": [
    {
     "name": "stdout",
     "output_type": "stream",
     "text": [
      "0.0\n"
     ]
    },
    {
     "data": {
      "image/png": "[encoded data removed]",
      "text/plain": [
       "<Figure size 432x288 with 1 Axes>"
      ]
     },
     "metadata": {},
     "output_type": "display_data"
    },
    {
     "data": {
      "text/plain": [
       "5.325557581172065"
      ]
     },
     "execution_count": 31,
     "metadata": {},
     "output_type": "execute_result"
    }
   ],
   "source": [
    "OIE = te.loada(OIE_model)\n",
    "print(OIE.iE)\n",
    "#OIE.setValue(\"E\", 9*10**6) \n",
    "result = OIE.simulate (0, 300 ,1000,['time', 'LDH'])\n",
    "OIE.plot(result)\n",
    "\n",
    "OIE.Hb_g_dl"
   ]
  },
  {
   "cell_type": "code",
   "execution_count": 58,
   "metadata": {},
   "outputs": [
    {
     "name": "stdout",
     "output_type": "stream",
     "text": [
      "0.0\n"
     ]
    },
    {
     "data": {
      "image/png": "[encoded data removed]",
      "text/plain": [
       "<Figure size 432x288 with 1 Axes>"
      ]
     },
     "metadata": {},
     "output_type": "display_data"
    },
    {
     "data": {
      "text/plain": [
       "5.325557581172065"
      ]
     },
     "execution_count": 58,
     "metadata": {},
     "output_type": "execute_result"
    }
   ],
   "source": [
    "OIE = te.loada(OIE_model)\n",
    "print(OIE.iE)\n",
    "#OIE.setValue(\"E\", 9*10**6) \n",
    "result = OIE.simulate (0, 300 ,1000,['time', 'p'])\n",
    "OIE.plot(result)\n",
    "\n",
    "OIE.Hb_g_dl"
   ]
  },
  {
   "cell_type": "markdown",
   "metadata": {},
   "source": [
    "## Delay einbauen"
   ]
  },
  {
   "cell_type": "code",
   "execution_count": 16,
   "metadata": {},
   "outputs": [
    {
     "name": "stdout",
     "output_type": "stream",
     "text": [
      "R0: S0 -> S1; k_age\n",
      "R1: S1 -> S2; k_age\n",
      "R2: S2 -> S3; k_age\n",
      "R3: S3 -> S4; k_age\n",
      "R4: S4 -> S5; k_age\n",
      "R5: S5 -> S6; k_age\n",
      "R6: S6 -> S7; k_age\n",
      "R7: S7 -> S8; k_age\n",
      "R8: S8 -> S9; k_age\n",
      "R9: S9 -> S10; k_age\n",
      "\n"
     ]
    }
   ],
   "source": [
    "s = ''.join([f'R{i}: S{i} -> S{i+1}; k_age\\n' for i in range(10)])\n",
    "print(s)"
   ]
  },
  {
   "cell_type": "code",
   "execution_count": 65,
   "metadata": {},
   "outputs": [
    {
     "name": "stdout",
     "output_type": "stream",
     "text": [
      "\n",
      "balh;\n",
      "R0: S0 -> S1; k_age * S0\n",
      "R1: S1 -> S2; k_age * S1\n",
      "R2: S2 -> S3; k_age * S2\n",
      "\n",
      "blub;\n",
      "R3: S3 -> S4; k_age\n",
      "R4: S4 -> S5; k_age\n",
      "R5: S5 -> S6; k_age\n",
      "\n",
      "\n"
     ]
    }
   ],
   "source": [
    "aging_R = ''.join([f'R{i}: S{i} -> S{i+1}; k_age * S{i}\\n' for i in range(3)])\n",
    "aging_E = ''.join([f'R{i}: S{i} -> S{i+1}; k_age\\n' for i in range(3, 6)])\n",
    "                  \n",
    "\n",
    "model = \"\"\"\n",
    "balh;\n",
    "{a_R}\n",
    "blub;\n",
    "{a_E}\n",
    "\"\"\".format(a_R=aging_R, a_E=aging_E)\n",
    "\n",
    "print(model)"
   ]
  },
  {
   "cell_type": "markdown",
   "metadata": {
    "toc-hr-collapsed": true
   },
   "source": [
    "## Parameter Scanning"
   ]
  },
  {
   "cell_type": "markdown",
   "metadata": {},
   "source": [
    "### small parameter scanning"
   ]
  },
  {
   "cell_type": "code",
   "execution_count": 66,
   "metadata": {},
   "outputs": [],
   "source": [
    "import matplotlib.pyplot as plt\n",
    "import seaborn as sns\n",
    "import pandas as pd\n",
    "\n",
    "df = []\n",
    "\n",
    "readout = {\n",
    "    \"steady_state\": lambda t,x:x[-1],\n",
    "    #\"max\": lambda t,x: np.max(x),\n",
    "    #\"t_max\": lambda t,x: t[np.argmax(x)]\n",
    "}\n",
    "\n",
    "para = 'k_E_infect'\n",
    "fluxes = ['J_E_infect', 'J_iE_death', 'J_iE_rupture', 'J_M_death']\n",
    "\n",
    "for i in np.logspace(-2,2,100):\n",
    "    OIE = te.loada(OIE_model)\n",
    "    p_value = i*OIE.getValue(para)\n",
    "    OIE.setValue(para, p_value) \n",
    "    result = OIE.simulate (0, 10000, 1000, [\"time\",'M'])\n",
    "    for k,v in readout.items():\n",
    "        df.append({\"p_name\":para,\"p_value\":p_value,\"i\":i,\"readout\":k,\"value\":v(np.array(result[:,0]),np.array(result[:,1])),\"species\":'OIE.M'})\n",
    "\n",
    "df = pd.DataFrame(df)"
   ]
  },
  {
   "cell_type": "code",
   "execution_count": 67,
   "metadata": {},
   "outputs": [
    {
     "data": {
      "text/plain": [
       "<seaborn.axisgrid.FacetGrid at 0x7fa845c47760>"
      ]
     },
     "execution_count": 67,
     "metadata": {},
     "output_type": "execute_result"
    },
    {
     "data": {
      "image/png": "[encoded data removed]",
      "text/plain": [
       "<Figure size 302.375x216 with 1 Axes>"
      ]
     },
     "metadata": {
      "needs_background": "light"
     },
     "output_type": "display_data"
    }
   ],
   "source": [
    "#filter_df = lambda df:df.loc[df[\"p_name\"].isin(['k_E_infect', 'k_iE_rupture','k_iE_death'])]\n",
    "filter_df = lambda df:df.loc[(df[\"p_name\"].isin(['k_E_infect', 'k_M_death', 'k_iE_rupture','k_iE_death']))& (~df[\"species\"].isin([\"EPO\", 'R', 'P', 'oiE', 'diE']))]\n",
    "\n",
    "#g = sns.FacetGrid(data = df.loc[df[\"p_name\"] == \"k_E_infect\"], col = \"species\",row = \"readout\", hue = \"p_name\", sharey=False)\n",
    "g = sns.FacetGrid(data = filter_df(df), col = \"species\",row = \"readout\", hue = \"p_name\", sharey=False)\n",
    "g.map_dataframe(sns.lineplot,\"i\",\"value\").set(xscale = 'log')\n",
    "g.add_legend()"
   ]
  },
  {
   "cell_type": "markdown",
   "metadata": {},
   "source": [
    "### big parameter scanning"
   ]
  },
  {
   "cell_type": "code",
   "execution_count": null,
   "metadata": {},
   "outputs": [],
   "source": [
    "import matplotlib.pyplot as plt\n",
    "import seaborn as sns\n",
    "import pandas as pd\n",
    "\n",
    "df = []\n",
    "\n",
    "readout = {\n",
    "    \"steady_state\": lambda t,x:x[-1],\n",
    "    #\"max\": lambda t,x: np.max(x),\n",
    "    #\"t_max\": lambda t,x: t[np.argmax(x)]\n",
    "}\n",
    "\n",
    "para = ['k_E_infect', 'k_M_death', 'k_iE_rupture','k_iE_death']\n",
    "fluxes = ['J_E_infect', 'J_iE_death', 'J_iE_rupture', 'J_M_death']\n",
    "outputlist = OIE.getFloatingSpeciesIds()+fluxes\n",
    "\n",
    "OIE = te.loada(OIE_model)\n",
    "for p_name in para:\n",
    "#for p_name in OIE.getGlobalParameterIds()[0:5]:\n",
    "    print(p_name)\n",
    "    for i in np.logspace(-1,1,100):\n",
    "        try:\n",
    "            OIE = te.loada(OIE_model)\n",
    "            p_value = i*OIE.getValue(p_name)\n",
    "            OIE.setValue(p_name, p_value) \n",
    "            \n",
    "        except Exception as e:continue\n",
    "        result = OIE.simulate (0, 1000, 1000, [\"time\"] + outputlist)\n",
    "        for o,species in enumerate(outputlist):\n",
    "            for k,v in readout.items():\n",
    "                df.append({\"p_name\":p_name,\"p_value\":p_value,\"i\":i,\"readout\":k,\"value\":v(np.array(result[:,0]),np.array(result[:,o+1])),\"species\":species})\n",
    "\n",
    "df = pd.DataFrame(df)"
   ]
  },
  {
   "cell_type": "code",
   "execution_count": null,
   "metadata": {},
   "outputs": [],
   "source": [
    "#filter_df = lambda df:df.loc[df[\"p_name\"].isin(['k_E_infect', 'k_iE_rupture','k_iE_death'])]\n",
    "filter_df = lambda df:df.loc[(df[\"p_name\"].isin(['k_E_infect', 'k_M_death', 'k_iE_rupture','k_iE_death']))& (~df[\"species\"].isin([\"EPO\", 'R', 'P', 'oiE', 'diE']))]\n",
    "\n",
    "#g = sns.FacetGrid(data = df.loc[df[\"p_name\"] == \"k_E_infect\"], col = \"species\",row = \"readout\", hue = \"p_name\", sharey=False)\n",
    "g = sns.FacetGrid(data = filter_df(df), col = \"species\",row = \"readout\", hue = \"p_name\", sharey=False)\n",
    "g.map_dataframe(sns.lineplot,\"i\",\"value\").set(xscale = 'log')\n",
    "g.add_legend()"
   ]
  },
  {
   "cell_type": "code",
   "execution_count": null,
   "metadata": {},
   "outputs": [],
   "source": [
    "OIE = te.loada(OIE_model)\n",
    "for x in OIE.__dir__():\n",
    "    pass#print(x)\n",
    "\n",
    "OIE.getFloatingSpeciesIds()"
   ]
  },
  {
   "cell_type": "code",
   "execution_count": null,
   "metadata": {},
   "outputs": [],
   "source": [
    "OIE.selections"
   ]
  },
  {
   "cell_type": "code",
   "execution_count": null,
   "metadata": {},
   "outputs": [],
   "source": [
    "#OIE.getSimulationData()"
   ]
  },
  {
   "cell_type": "code",
   "execution_count": null,
   "metadata": {},
   "outputs": [],
   "source": []
  },
  {
   "cell_type": "code",
   "execution_count": null,
   "metadata": {},
   "outputs": [],
   "source": []
  }
 ],
 "metadata": {
  "kernelspec": {
   "display_name": "Python 3 (ipykernel)",
   "language": "python",
   "name": "python3"
  },
  "language_info": {
   "codemirror_mode": {
    "name": "ipython",
    "version": 3
   },
   "file_extension": ".py",
   "mimetype": "text/x-python",
   "name": "python",
   "nbconvert_exporter": "python",
   "pygments_lexer": "ipython3",
   "version": "3.10.6"
  }
 },
 "nbformat": 4,
 "nbformat_minor": 4
}
