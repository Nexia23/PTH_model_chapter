{
 "cells": [
  {
   "attachments": {},
   "cell_type": "markdown",
   "metadata": {},
   "source": [
    "# Modeling the effects of artesunate on erythropoesis in malariainfection"
   ]
  },
  {
   "attachments": {},
   "cell_type": "markdown",
   "metadata": {
    "tags": []
   },
   "source": [
    "erste Version ohne Immunsystem, Medikament, aber mit Erythropoese,Parasit"
   ]
  },
  {
   "cell_type": "code",
   "execution_count": 1,
   "metadata": {},
   "outputs": [],
   "source": [
    "#packages\n",
    "import pandas as pd\n",
    "import seaborn as sns\n",
    "import numpy as np\n",
    "import tellurium as te\n",
    "import matplotlib.pyplot as plt"
   ]
  },
  {
   "attachments": {},
   "cell_type": "markdown",
   "metadata": {},
   "source": [
    "## Data von Florian"
   ]
  },
  {
   "cell_type": "code",
   "execution_count": 2,
   "metadata": {},
   "outputs": [
    {
     "data": {
      "text/html": [
       "<div>\n",
       "<style scoped>\n",
       "    .dataframe tbody tr th:only-of-type {\n",
       "        vertical-align: middle;\n",
       "    }\n",
       "\n",
       "    .dataframe tbody tr th {\n",
       "        vertical-align: top;\n",
       "    }\n",
       "\n",
       "    .dataframe thead th {\n",
       "        text-align: right;\n",
       "    }\n",
       "</style>\n",
       "<table border=\"1\" class=\"dataframe\">\n",
       "  <thead>\n",
       "    <tr style=\"text-align: right;\">\n",
       "      <th></th>\n",
       "      <th>Tag</th>\n",
       "      <th>OIE ‰</th>\n",
       "      <th>infected ‰</th>\n",
       "      <th>Hb (g/l)</th>\n",
       "      <th>Retis ‰</th>\n",
       "    </tr>\n",
       "  </thead>\n",
       "  <tbody>\n",
       "    <tr>\n",
       "      <th>0</th>\n",
       "      <td>1.0</td>\n",
       "      <td>35.849057</td>\n",
       "      <td>391.644205</td>\n",
       "      <td>9.6</td>\n",
       "      <td>NaN</td>\n",
       "    </tr>\n",
       "    <tr>\n",
       "      <th>1</th>\n",
       "      <td>NaN</td>\n",
       "      <td>NaN</td>\n",
       "      <td>NaN</td>\n",
       "      <td>NaN</td>\n",
       "      <td>NaN</td>\n",
       "    </tr>\n",
       "    <tr>\n",
       "      <th>2</th>\n",
       "      <td>3.0</td>\n",
       "      <td>199.074074</td>\n",
       "      <td>87.268519</td>\n",
       "      <td>8.1</td>\n",
       "      <td>NaN</td>\n",
       "    </tr>\n",
       "    <tr>\n",
       "      <th>3</th>\n",
       "      <td>4.0</td>\n",
       "      <td>350.279330</td>\n",
       "      <td>0.000000</td>\n",
       "      <td>7.6</td>\n",
       "      <td>13.3</td>\n",
       "    </tr>\n",
       "    <tr>\n",
       "      <th>4</th>\n",
       "      <td>NaN</td>\n",
       "      <td>NaN</td>\n",
       "      <td>NaN</td>\n",
       "      <td>NaN</td>\n",
       "      <td>NaN</td>\n",
       "    </tr>\n",
       "  </tbody>\n",
       "</table>\n",
       "</div>"
      ],
      "text/plain": [
       "   Tag       OIE ‰  infected ‰  Hb (g/l)  Retis ‰\n",
       "0  1.0   35.849057  391.644205       9.6      NaN\n",
       "1  NaN         NaN         NaN       NaN      NaN\n",
       "2  3.0  199.074074   87.268519       8.1      NaN\n",
       "3  4.0  350.279330    0.000000       7.6     13.3\n",
       "4  NaN         NaN         NaN       NaN      NaN"
      ]
     },
     "execution_count": 2,
     "metadata": {},
     "output_type": "execute_result"
    }
   ],
   "source": [
    "# import data from florian\n",
    "data_df = pd.read_csv('./PADH_sample_set.csv')\n",
    "data_df = data_df[['Tag', 'OIE ‰', 'infected ‰', 'Hb (g/l)', 'Retis ‰']]\n",
    "\n",
    "data_df.head()"
   ]
  },
  {
   "attachments": {},
   "cell_type": "markdown",
   "metadata": {
    "tags": []
   },
   "source": [
    "![model schmeme](schema_erythropoese_6.svg)\n"
   ]
  },
  {
   "attachments": {},
   "cell_type": "markdown",
   "metadata": {},
   "source": [
    "## Steady State "
   ]
  },
  {
   "cell_type": "code",
   "execution_count": 3,
   "metadata": {},
   "outputs": [
    {
     "name": "stdout",
     "output_type": "stream",
     "text": [
      "E0:5567010.30927835 \n",
      "R0:46391.75257731959 \n",
      "P0:453.3712612598663 \n",
      "a:40.77822970381671  \n",
      "d:0.001528873221107508 \n",
      "LDH_conc_E:6057.038462904435 \n"
     ]
    }
   ],
   "source": [
    "### Steady State\n",
    "\n",
    "t_R_aging= 1          \n",
    "t_E_death= 120 \n",
    "Hkt      = 0.45\n",
    "Vol_R    = 100e-15        #in l, Jorin\n",
    "Vol_E    = 80e-15         #=80 fL, in l, Jorin, =MCH\n",
    "Vol_blood= 1e-6          # =1µl, in l, gesamtes Blutvolumen \n",
    "\n",
    "# E0\n",
    "## E0 aus Hämatokrit-wert abgeleitet\n",
    "##Hämatokrit Formel nach E umgestellt, \n",
    "##E0 = ((Hkt * Vol_blood) - (R0 * Vol_R))/Vol_E\n",
    "## einfügen von R0, nach E0 umstellen\n",
    "E0 = (Hkt * Vol_blood * (t_E_death/2))/ ( ((t_E_death/2)* Vol_E) + ((t_R_aging/2)*Vol_R))\n",
    "R0   = E0 * t_R_aging/ t_E_death \n",
    "#P0  = (R0 * (k_R_death +k_R_aging))/ (2^10 * k_P_aging)   \n",
    "P0  = (R0* (0.001 + (np.log(2) / (1/2))))/ ((2**10) *np.log(2) / (10/2))\n",
    "#print (E0, R0, P0, R0/E0, R0+E0)\n",
    "\n",
    "#EPO flux\n",
    "b   = 100\n",
    "c   = 0.04\n",
    "hemoglobin= 137.25001\n",
    "EPO = 15\n",
    "P   = P0\n",
    "d   = -np.log(0.5)/P\n",
    "a   = EPO * (1-np.exp(-d*P))*(1+np.exp((hemoglobin-b)*c))\n",
    "J_EPO_prod  = a/ (1+np.exp((hemoglobin-b)*c))\n",
    "J_EPO_decay = EPO * (1-np.exp(-d*P))\n",
    "\n",
    "#LDH\n",
    "LDH = 180  #U/l\n",
    "t_halb_LDH_decay= 4\n",
    "J_E_death = 64312.62500040728\n",
    "J_R_death = 46.39175257731957\n",
    "LDH_decay=  LDH * np.log(2)/t_halb_LDH_decay\n",
    "LDH_conc_E = (LDH_decay * Vol_blood) / (J_E_death* Vol_E +J_R_death * Vol_R)\n",
    "\n",
    "print(f'E0:{E0} \\nR0:{R0} \\nP0:{P0} \\na:{a}  \\nd:{d} \\nLDH_conc_E:{LDH_conc_E} ')"
   ]
  },
  {
   "cell_type": "code",
   "execution_count": 4,
   "metadata": {},
   "outputs": [
    {
     "name": "stdout",
     "output_type": "stream",
     "text": [
      "-4.999999999999998 3.25\n"
     ]
    },
    {
     "data": {
      "image/png": "[encoded data removed]",
      "text/plain": [
       "<Figure size 432x288 with 1 Axes>"
      ]
     },
     "metadata": {
      "needs_background": "light"
     },
     "output_type": "display_data"
    },
    {
     "data": {
      "image/png": "[encoded data removed]",
      "text/plain": [
       "<Figure size 432x288 with 1 Axes>"
      ]
     },
     "metadata": {
      "needs_background": "light"
     },
     "output_type": "display_data"
    }
   ],
   "source": [
    "#RPI Zusammenhang Hamatokrit und Reifungstage von Retis in peripheren Blut (R) und Retis die in Knochenmark noch sind (Teil von P)\n",
    "# https://www.labopart.de/einsender/formelberechnungen/rpi/\n",
    "# s. Manuskript für Formel\n",
    "\n",
    "Hkt = [0.15, 0.25, 0.35, 0.45] \n",
    "days_T_R_aging = [2.5, 2.0, 1.5, 1.0]\n",
    "#lineare Regression for function:  y = m*x +b\n",
    "m,b = np.polyfit(Hkt, days_T_R_aging, 1)\n",
    "print(m,b)\n",
    "plt.plot(Hkt, days_T_R_aging)\n",
    "plt.show()\n",
    "\n",
    "\n",
    "#x-values, and y Functions for R aging and T aging\n",
    "Hkt = np.linspace(0, 0.5, 100)\n",
    "T_P_aging = 5 * Hkt + 7.75\n",
    "T_R_aging =-5 * Hkt + 3.25\n",
    "T_ges     = T_P_aging + T_R_aging\n",
    "\n",
    "fig = plt.figure()\n",
    "ax = fig.add_subplot(1, 1, 1)\n",
    "\n",
    "plt.plot(Hkt,T_ges, 'r', label='T_ges')\n",
    "plt.plot(Hkt,T_R_aging, 'b', label='T_R_aging')\n",
    "plt.plot(Hkt,T_P_aging, 'c', label='T_P_aging')\n",
    "plt.legend(loc='upper right')\n",
    "plt.show()\n",
    "\n"
   ]
  },
  {
   "attachments": {},
   "cell_type": "markdown",
   "metadata": {},
   "source": [
    "#### Haptoglobin Steady State"
   ]
  },
  {
   "attachments": {},
   "cell_type": "markdown",
   "metadata": {},
   "source": [
    "## Model"
   ]
  },
  {
   "cell_type": "code",
   "execution_count": 6,
   "metadata": {},
   "outputs": [],
   "source": [
    "OIE_model = \"\"\"\n",
    "#species initiation\n",
    "EPO = 15       #in mU/mL , (Thi,2010) erreicht nach (El Hassan 1997)max. 1000 mU/mL (miliunits)\n",
    "P   = 453.3712612598663    \n",
    "R   = 46391.75257731959   #für SS berechnet\n",
    "E   = 5567010.30927835      #cells, bezieht sich auf gesamtvolumen 1 mikroliter\n",
    "niE = 0        #\n",
    "iE  = 0        #in cells/(kg body weight*10^11)\n",
    "diE = 0\n",
    "OIE = 0        #once-infected Erys\n",
    "M   = 0        #Merozoiten, Bei Infektion: 2* 10^5 (Ma, 2019)\n",
    "A   = 0        #Antikörper\n",
    "I   = 0        #Immun cells, bei Infektion 10^-2\n",
    "LDH = 180      # U/l\n",
    "\n",
    "#Reactions \n",
    "##erythropoisis\n",
    "EPOprod:       -> EPO   ; J_EPO_prod             \n",
    "EPOdecay:  EPO ->       ; J_EPO_decay\n",
    "Pbirth:        -> P     ; J_P_birth\n",
    "Pdeath:      P ->       ; J_P_death\n",
    "Page:        P -> 1024R ; J_P_aging     # Vorläufer teilen sich ca. 10x -> 2**10\n",
    "Rdeath:      R ->       ; J_R_death \n",
    "Raging:      R -> E     ; J_R_aging        \n",
    "Edeath:      E ->       ; J_E_death       \n",
    "##parasite lifecircle \n",
    "infect:    E+M -> iE    ; J_E_infect     \n",
    "iEdeath:    iE ->       ; J_iE_death     \n",
    "iErupture:  iE -> 16M   ; J_iE_rupture\n",
    "Mdeath:      M ->       ; J_M_death\n",
    "##Artesunate treatment\n",
    "iE_ART:     iE -> diE   ; J_iE_ART     \n",
    "diE_pitt:  diE -> oiE   ; J_diE_pitt \n",
    "diE_death: diE ->       ; J_diE_death \n",
    "oiEdeath:  oiE ->       ; J_oiE_death\n",
    "##LDH, haptoglobin\n",
    "LDHrelease:       -> LDH  ; J_LDH_release   \n",
    "LDHdecay:     LDH ->      ; J_LDH_decay   \n",
    "\n",
    "#fHbrelease:       -> fHb  ; J_fHb_release     #fHb= freies Hb im Plasma\n",
    "#Hpprod:           -> Hp   ; J_Hp_prod \n",
    "#HHCbind:   fHb+ Hp-> HHC  ; J_HHC_binding     #Hp= Haptoglobin    HHC= hemoglobin-haptoglobin-complex\n",
    "#HHCdecay:     HHC ->      ; J_HHC_decay       #\n",
    "\n",
    "\n",
    "\n",
    "#parameter initiation\n",
    "#Lebenszeiten t\n",
    "##erythropoiesis\n",
    "t_P_aging   := 5 * Hkt + 7.75          #in days, Entwicklung von Stammzelle zum Retikulozyt dauert ca. 5-9 Tage, plus 3 Tage die er schon retikulozyte ist aber noch in Rückenmark\n",
    "t_R_aging   :=-5 * Hkt + 3.25          #in days, Entwicklung R -> E dauert ca 4 Tage (3 tage knochenmark, 1 Tage im peripheren Blut)-> wir betrachten nur Retis in peripheren Blut, bei niedrigen Hkt verlassen Retis eher Knochenmark,  reifen länger im Blut\n",
    "t_E_death   = 120       #in 1/days, 120 Tage E Lebensdauer s. Jorins Quellen\n",
    "##Infection with parasite\n",
    "t_iE_rupture= 4          #in days, dauert ca 4 Tage bis Ruptur, sinuskurvig (2010 Th)\n",
    "##Artesunate treatment\n",
    "t_diE_pitt  = 0.25       #in days, bei Medikamentengabe nach 8h Maximum an gepitteten RBCs\n",
    "t_oiE_death = 10         #in days, Lebenspanne von 7-14 Tage(Fanello,2017), 7-21 (Arguin 2014) -> dort Verweise nachgehen\n",
    "##LDH\n",
    "t_halb_LDH_decay = 4            #(3-5 Tage), https://www.medicoconsult.de/ldh/\n",
    "\n",
    "\n",
    "#lost Parameter\n",
    "KI_P_death = 15          #EPO Wert bei gesunden Menschen\n",
    "##Konstanten für EPO- GG\n",
    "b = 100\n",
    "c = 0.04\n",
    "d = -log(0.5)/P\n",
    "a = EPO * (1-exp(-d*P))*(1+exp((Hb-b)*c))\n",
    "\n",
    "\n",
    "#Assignments\n",
    "##Erythropoese\n",
    "J_EPO_prod  := k_EPO_prod         # hier später Abhängigkeit von, oiE, diE, iE einfügen (Ma, 2019) vlt (Hassan 2009)\n",
    "J_EPO_decay := EPO* k_EPO_decay   #  \n",
    "J_P_birth    = k_P_birth          #cells/day\n",
    "J_P_death   := P * k_P_death\n",
    "J_P_aging   := P * k_P_aging\n",
    "J_R_death   := R * k_R_death\n",
    "J_R_aging   := R * k_R_aging\n",
    "J_E_death   := E * k_E_death\n",
    "##Infection with parasite\n",
    "J_E_infect  := E*M  * k_E_infect       # einbezug parasit?, E ersmal als Abhängigkeit ausgelassen da am Anfang E >> M -> mit Jorin absprechen+\n",
    "J_iE_death  := iE * k_iE_death       #einbezug antibodies, spleen\n",
    "J_iE_rupture:= iE * k_iE_rupture     #16-32M s.Cowman 2016, Anderson 1989, Diebner 2000\n",
    "J_M_death   := M  * k_M_death\n",
    "##Artesunate treatment\n",
    "J_iE_ART    := iE  * k_iE_ART       #einbezug artesunat\n",
    "J_diE_pitt  := diE * k_diE_pitt     #spleen\n",
    "J_diE_death := diE * k_diE_death\n",
    "J_oiE_death := oiE * k_oiE_death\n",
    "##LDH, haptoglobin\n",
    "J_LDH_release := (J_E_death * LDH_conc_E * Vol_E/ Vol_blood)+ (J_R_death * LDH_conc_E * Vol_R/ Vol_blood)\n",
    "J_LDH_decay   := LDH * k_LDH_decay\n",
    "\n",
    "#J_fHb_release := (J_E_death * Hb_conc_E * Vol_E) / Vol_blood\n",
    "#J_Hp_prod      = k_Hp_prod (=konst.)\n",
    "#J_HHC_binding := fHb * Hp * k_HHC_bind\n",
    "#J_HHC_decay   := HCC * k_HCC_decay\n",
    "\n",
    "\n",
    "#Raten\n",
    "##Erythropoese\n",
    "k_EPO_prod := a/(1+exp((Hb-b)*c) )    # in #cell/day\n",
    "k_EPO_decay:= 1-exp(-P*d)             # in 1/days, (Ma, 2009)\n",
    "k_P_birth   = P * (k_P_death + k_P_aging)\n",
    "k_P_death  := 1/(1+ (EPO/KI_P_death))     #geraten, muss hoch sein, da wenn EPO da ist, dese so stark erringert wird dass Erythropoese verstrkt wird \n",
    "k_P_aging   = ln(2) / (t_P_aging/2)       #in 1/days\n",
    "k_R_death   = 0.001                       #in 1/days,  geraten\n",
    "k_R_aging   = ln(2) / (t_R_aging/2)       #in 1/days \n",
    "k_E_death   = ln(2) / (t_E_death/2)       #in 1/days       #verkürzung bei Infektion: k_E_alter; 0.15aus komischen paper 2022\n",
    "##infection with parasit                       \n",
    "k_E_infect  = 0                           #bei Infektion:2.0* 10^-9 keine Einheit, Ma 2019\n",
    "k_iE_death  = 0.025                       #in 1/days, Ma 2019\n",
    "k_iE_rupture= ln(2) / (t_iE_rupture/2)    #in 1/days\n",
    "k_M_death   = 48                          #in 1/days 2010 Thi \n",
    "##Artesunate treatment\n",
    "k_iE_ART    = 0.01                        # geschätzt ohne Medikament, , ART hat 1h Halbwertszeit (Tilley 2016)\n",
    "k_diE_pitt  = ln(2) / (t_diE_pitt  /2)    # bei Medikamentengabe nach 8h Maximum an gepitteten RBCs\n",
    "k_diE_death = 0.001\n",
    "k_oiE_death = ln(2) / (t_oiE_death/2)     #in 1/days        \n",
    "##LDH, haptoglobin\n",
    "k_LDH_decay  = ln(2) / t_halb_LDH_decay\n",
    "#k_Hp_prod    =\n",
    "#k_HHC_bind  :=\n",
    "#k_HCC_decay := ln(2) / (t_halb_LDH_decay)     #Halbwertszeit von LDH1 (vlt noch LDH2 betrachten!)\n",
    "\n",
    "\n",
    "              \n",
    "#Hämoglobin & Hämatokrit \n",
    "#Quelle:https://www.labor-und-diagnose-2020.de/index.html\n",
    "#(noch diE, niE Volumen, iE, Konzentrationen hinzufügen)\n",
    "\n",
    "##Volumen\n",
    "Vol_R    = 100e-15        #in l, Jorin\n",
    "Vol_E    = 80e-15         #=80 fL, in l, Jorin, =MCH\n",
    "#Vol_iE   = 80e-15         #in l,   Jorin\n",
    "#Vol_diE = 80e-15         #auf gleiches Volumen wie iE geschätzt\n",
    "Vol_oiE  = 50e-15         #in l, Jorin\n",
    "Vol_blood= 1e-6           # =1µl, in l, gesamtes Blutvolumen \n",
    "\n",
    "##Hb Konzentrationen\n",
    "Hb_conc_R    = 300        #in g/l (Piva,2014), & Quelle Kabor & Diagnose \n",
    "Hb_conc_E    = 340        #in g/l,  =MCHC, https://www.ucsfhealth.org/medical-tests/rbc-indices    \n",
    "#Hb_conc_iE  = \n",
    "#Hb_conc_diE =\n",
    "#Hb_conc_oiE = \n",
    "#Hämatokrit, Hämoglobin\n",
    "Hkt     := (Vol_E * E + Vol_R * R) / Vol_blood                             #0.4 ~ 40 %, #hier fehlen noch MCHC von infected Zellen\n",
    "Hb      := (Vol_E * E * Hb_conc_E + Vol_R * R * Hb_conc_R) / Vol_blood     #in g/l, hier fehlen noch MCHC von infected Zellen\n",
    "Hb_g_dl := Hb/10\n",
    "\n",
    "#LDH & Haptoglobin\n",
    "LDH_conc_E = 6057.038462904435 #U/l                    #https://www.ncbi.nlm.nih.gov/books/NBK557536/?report=printable\n",
    "#Hb_serum := J_E_death * Hb_conc_E\n",
    "\n",
    "#Parasitemie\n",
    "p := iE / (E + R + iE + oiE + diE)  \n",
    "\n",
    "#RPI\n",
    "#Quelle: Kurth(2022),& https://www.labopart.de/einsender/formelberechnungen/rpi/\n",
    "R_percent := 100* R/(R+E)\n",
    "shift     := -5 * Hkt + 3.25  # in days\n",
    "RPI       := R_percent * Hkt/ (shift * 0.45) \n",
    "      \n",
    "\"\"\""
   ]
  },
  {
   "attachments": {},
   "cell_type": "markdown",
   "metadata": {},
   "source": [
    "## Simulation"
   ]
  },
  {
   "cell_type": "code",
   "execution_count": 7,
   "metadata": {},
   "outputs": [],
   "source": [
    "OIE = te.loada(OIE_model)\n",
    "OIE.exportToSBML('./OIE_steadystate.xml')"
   ]
  },
  {
   "cell_type": "code",
   "execution_count": 8,
   "metadata": {},
   "outputs": [
    {
     "name": "stdout",
     "output_type": "stream",
     "text": [
      "31.19162312519752 0.00048456307703235443 31.191623125197538 64312.625000407286 46.3917525773196\n",
      "1.0009016844005563\n"
     ]
    },
    {
     "data": {
      "image/png": "[encoded data removed]",
      "text/plain": [
       "<Figure size 432x288 with 1 Axes>"
      ]
     },
     "metadata": {},
     "output_type": "display_data"
    },
    {
     "name": "stdout",
     "output_type": "stream",
     "text": [
      "46.39175257731957 64312.62500040728\n"
     ]
    }
   ],
   "source": [
    "OIE = te.loada(OIE_model)\n",
    "print(OIE.J_LDH_release,OIE.LDH_conc_E*OIE.Vol_E/OIE.Vol_blood, OIE.J_LDH_decay, OIE.J_E_death, OIE.J_R_death)\n",
    "\n",
    "print(OIE.J_LDH_decay/(OIE.J_E_death*(OIE.LDH_conc_E*OIE.Vol_E/OIE.Vol_blood)))\n",
    "result = OIE.simulate (0, 500)\n",
    "OIE.plot(result)\n",
    "\n",
    "print(OIE.J_R_death, OIE.J_E_death)\n",
    "\n"
   ]
  },
  {
   "cell_type": "code",
   "execution_count": 15,
   "metadata": {},
   "outputs": [
    {
     "name": "stdout",
     "output_type": "stream",
     "text": [
      "180.0\n"
     ]
    },
    {
     "data": {
      "image/png": "[encoded data removed]",
      "text/plain": [
       "<Figure size 432x288 with 1 Axes>"
      ]
     },
     "metadata": {},
     "output_type": "display_data"
    },
    {
     "name": "stdout",
     "output_type": "stream",
     "text": [
      "181.1265063894674\n"
     ]
    }
   ],
   "source": [
    "OIE = te.loada(OIE_model)\n",
    "#OIE.setValue(\"E\", 6*10**6) \n",
    "print(OIE.LDH)\n",
    "result = OIE.simulate (0, 10000, ['time', 'R'])\n",
    "OIE.plot(result)\n",
    "print(OIE.LDH)"
   ]
  },
  {
   "cell_type": "code",
   "execution_count": 10,
   "metadata": {},
   "outputs": [
    {
     "name": "stdout",
     "output_type": "stream",
     "text": [
      "7.5 7.5\n"
     ]
    },
    {
     "data": {
      "image/png": "[encoded data removed]",
      "text/plain": [
       "<Figure size 432x288 with 1 Axes>"
      ]
     },
     "metadata": {},
     "output_type": "display_data"
    },
    {
     "name": "stdout",
     "output_type": "stream",
     "text": [
      "152.81443298969072\n"
     ]
    }
   ],
   "source": [
    "OIE = te.loada(OIE_model)\n",
    "print(OIE.J_EPO_prod,OIE.J_EPO_decay)\n",
    "#OIE.setValue(\"E\", 9*10**6) \n",
    "result = OIE.simulate (0, 100, ['time', 'Hb'])\n",
    "OIE.plot(result)\n",
    "print(OIE.Hb)"
   ]
  },
  {
   "cell_type": "code",
   "execution_count": 11,
   "metadata": {},
   "outputs": [
    {
     "data": {
      "text/plain": [
       "['time', 'Hb']"
      ]
     },
     "execution_count": 11,
     "metadata": {},
     "output_type": "execute_result"
    }
   ],
   "source": [
    "OIE.selections"
   ]
  },
  {
   "cell_type": "code",
   "execution_count": 12,
   "metadata": {},
   "outputs": [
    {
     "data": {
      "text/plain": [
       "    time,      Hb\n",
       " [[    0, 152.814],\n",
       "  [    2, 152.814],\n",
       "  [    4, 152.814],\n",
       "  [    6, 152.814],\n",
       "  [    8, 152.814],\n",
       "  [   10, 152.814],\n",
       "  [   12, 152.814],\n",
       "  [   14, 152.814],\n",
       "  [   16, 152.814],\n",
       "  [   18, 152.814],\n",
       "  [   20, 152.814],\n",
       "  [   22, 152.814],\n",
       "  [   24, 152.814],\n",
       "  [   26, 152.814],\n",
       "  [   28, 152.814],\n",
       "  [   30, 152.814],\n",
       "  [   32, 152.814],\n",
       "  [   34, 152.814],\n",
       "  [   36, 152.814],\n",
       "  [   38, 152.814],\n",
       "  [   40, 152.814],\n",
       "  [   42, 152.814],\n",
       "  [   44, 152.814],\n",
       "  [   46, 152.814],\n",
       "  [   48, 152.814],\n",
       "  [   50, 152.814],\n",
       "  [   52, 152.814],\n",
       "  [   54, 152.814],\n",
       "  [   56, 152.814],\n",
       "  [   58, 152.814],\n",
       "  [   60, 152.814],\n",
       "  [   62, 152.814],\n",
       "  [   64, 152.814],\n",
       "  [   66, 152.814],\n",
       "  [   68, 152.814],\n",
       "  [   70, 152.814],\n",
       "  [   72, 152.814],\n",
       "  [   74, 152.814],\n",
       "  [   76, 152.814],\n",
       "  [   78, 152.814],\n",
       "  [   80, 152.814],\n",
       "  [   82, 152.814],\n",
       "  [   84, 152.814],\n",
       "  [   86, 152.814],\n",
       "  [   88, 152.814],\n",
       "  [   90, 152.814],\n",
       "  [   92, 152.814],\n",
       "  [   94, 152.814],\n",
       "  [   96, 152.814],\n",
       "  [   98, 152.814],\n",
       "  [  100, 152.814]]"
      ]
     },
     "execution_count": 12,
     "metadata": {},
     "output_type": "execute_result"
    }
   ],
   "source": [
    "OIE.getSimulationData()"
   ]
  },
  {
   "cell_type": "code",
   "execution_count": null,
   "metadata": {},
   "outputs": [],
   "source": []
  }
 ],
 "metadata": {
  "kernelspec": {
   "display_name": "Python 3 (ipykernel)",
   "language": "python",
   "name": "python3"
  },
  "language_info": {
   "codemirror_mode": {
    "name": "ipython",
    "version": 3
   },
   "file_extension": ".py",
   "mimetype": "text/x-python",
   "name": "python",
   "nbconvert_exporter": "python",
   "pygments_lexer": "ipython3",
   "version": "3.10.6"
  }
 },
 "nbformat": 4,
 "nbformat_minor": 4
}
