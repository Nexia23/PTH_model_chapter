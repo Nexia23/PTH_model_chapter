{
 "cells": [
  {
   "cell_type": "markdown",
   "metadata": {},
   "source": [
    "# Modeling the effects of artesunate on erythropoesis in malariainfection"
   ]
  },
  {
   "cell_type": "markdown",
   "metadata": {
    "tags": []
   },
   "source": [
    "erste Version ohne Immunsystem, Medikament, aber mit Erythropoese,Parasit"
   ]
  },
  {
   "cell_type": "code",
   "execution_count": 1,
   "metadata": {},
   "outputs": [],
   "source": [
    "#packages\n",
    "import pandas as pd\n",
    "import seaborn as sns\n",
    "import numpy as np\n",
    "import tellurium as te\n",
    "import matplotlib.pyplot as plt"
   ]
  },
  {
   "cell_type": "markdown",
   "metadata": {},
   "source": [
    "## Data von Florian"
   ]
  },
  {
   "cell_type": "code",
   "execution_count": 2,
   "metadata": {},
   "outputs": [
    {
     "data": {
      "text/html": [
       "<div>\n",
       "<style scoped>\n",
       "    .dataframe tbody tr th:only-of-type {\n",
       "        vertical-align: middle;\n",
       "    }\n",
       "\n",
       "    .dataframe tbody tr th {\n",
       "        vertical-align: top;\n",
       "    }\n",
       "\n",
       "    .dataframe thead th {\n",
       "        text-align: right;\n",
       "    }\n",
       "</style>\n",
       "<table border=\"1\" class=\"dataframe\">\n",
       "  <thead>\n",
       "    <tr style=\"text-align: right;\">\n",
       "      <th></th>\n",
       "      <th>Tag</th>\n",
       "      <th>OIE ‰</th>\n",
       "      <th>infected ‰</th>\n",
       "      <th>Hb (g/l)</th>\n",
       "      <th>Retis ‰</th>\n",
       "    </tr>\n",
       "  </thead>\n",
       "  <tbody>\n",
       "    <tr>\n",
       "      <th>0</th>\n",
       "      <td>1.0</td>\n",
       "      <td>35.849057</td>\n",
       "      <td>391.644205</td>\n",
       "      <td>9.6</td>\n",
       "      <td>NaN</td>\n",
       "    </tr>\n",
       "    <tr>\n",
       "      <th>1</th>\n",
       "      <td>NaN</td>\n",
       "      <td>NaN</td>\n",
       "      <td>NaN</td>\n",
       "      <td>NaN</td>\n",
       "      <td>NaN</td>\n",
       "    </tr>\n",
       "    <tr>\n",
       "      <th>2</th>\n",
       "      <td>3.0</td>\n",
       "      <td>199.074074</td>\n",
       "      <td>87.268519</td>\n",
       "      <td>8.1</td>\n",
       "      <td>NaN</td>\n",
       "    </tr>\n",
       "    <tr>\n",
       "      <th>3</th>\n",
       "      <td>4.0</td>\n",
       "      <td>350.279330</td>\n",
       "      <td>0.000000</td>\n",
       "      <td>7.6</td>\n",
       "      <td>13.3</td>\n",
       "    </tr>\n",
       "    <tr>\n",
       "      <th>4</th>\n",
       "      <td>NaN</td>\n",
       "      <td>NaN</td>\n",
       "      <td>NaN</td>\n",
       "      <td>NaN</td>\n",
       "      <td>NaN</td>\n",
       "    </tr>\n",
       "  </tbody>\n",
       "</table>\n",
       "</div>"
      ],
      "text/plain": [
       "   Tag       OIE ‰  infected ‰  Hb (g/l)  Retis ‰\n",
       "0  1.0   35.849057  391.644205       9.6      NaN\n",
       "1  NaN         NaN         NaN       NaN      NaN\n",
       "2  3.0  199.074074   87.268519       8.1      NaN\n",
       "3  4.0  350.279330    0.000000       7.6     13.3\n",
       "4  NaN         NaN         NaN       NaN      NaN"
      ]
     },
     "execution_count": 2,
     "metadata": {},
     "output_type": "execute_result"
    }
   ],
   "source": [
    "# import data from florian\n",
    "data_df = pd.read_csv('./PADH_sample_set.csv')\n",
    "data_df = data_df[['Tag', 'OIE ‰', 'infected ‰', 'Hb (g/l)', 'Retis ‰']]\n",
    "\n",
    "data_df.head()"
   ]
  },
  {
   "cell_type": "markdown",
   "metadata": {
    "tags": []
   },
   "source": [
    "## Scheme\n",
    "![model schmeme](schema_erythropoese_5.svg)\n"
   ]
  },
  {
   "cell_type": "markdown",
   "metadata": {},
   "source": [
    "## Model"
   ]
  },
  {
   "cell_type": "code",
   "execution_count": 9,
   "metadata": {},
   "outputs": [
    {
     "name": "stdout",
     "output_type": "stream",
     "text": [
      "41666.666666666664 26060.451758344905 0.008333333333333333\n",
      "40.77822970381671 2.6598126652338653e-05\n",
      "7.5 7.5\n"
     ]
    }
   ],
   "source": [
    "#Steady State\n",
    "\n",
    "E_tot= 5e6\n",
    "t_R_aging   = 1          \n",
    "t_E_death   = 120 \n",
    "\n",
    "#R0  = E_tot * (t_R_aging) / (t_E_death)  #für steady state\n",
    "R0   = E_tot * 1/ 120 \n",
    "\n",
    "#P0  = (R0 * (k_R_death +k_R_aging))/ (16* k_P_aging)   \n",
    "P0  = (R0* (0.001 + (np.log(2) / (1/2))))/ (16* np.log(2) / (10/2))\n",
    "\n",
    "print ( R0, P0, R0/E_tot)\n",
    "\n",
    "#EPO flux\n",
    "b   = 100\n",
    "c   = 0.04\n",
    "hemoglobin= 137.25001\n",
    "EPO = 15\n",
    "P   = 26060\n",
    "\n",
    "d = -np.log(0.5)/P\n",
    "a   = EPO * (1-np.exp(-d*P))*(1+np.exp((hemoglobin-b)*c))\n",
    "\n",
    "J_EPO_prod = a/ (1+np.exp((hemoglobin-b)*c))\n",
    "J_EPO_decay = EPO * (1-np.exp(-d*P))\n",
    "\n",
    "\n",
    "print (a,d)\n",
    "print (J_EPO_prod, J_EPO_decay)\n",
    "\n"
   ]
  },
  {
   "cell_type": "code",
   "execution_count": 12,
   "metadata": {},
   "outputs": [],
   "source": [
    "OIE_model = \"\"\"\n",
    "#species initiation\n",
    "EPO = 15       #in mU/mL , (Thi,2010) erreicht nach (El Hassan 1997)max. 1000 mU/mL (miliunits)\n",
    "P   = 26061    \n",
    "R   = 41667    #für SS berechnet\n",
    "E   = 5e6      #cells, bezieht sich auf gesamtvolumen 1 mikroliter\n",
    "niE = 0        #\n",
    "iE  = 0        #in cells/(kg body weight*10^11)\n",
    "OIE = 0        #once-infected Erys\n",
    "M   = 0        #Merozoiten, Bei Infektion: 2* 10^5 (Ma, 2019)\n",
    "A   = 0        #Antikörper\n",
    "I   = 0        #Immun cells, bei Infektion 10^-2\n",
    "\n",
    "#Reactions \n",
    "##erythropoisis\n",
    "EPOprod:       -> EPO   ; J_EPO_prod             \n",
    "EPOdecay:  EPO ->       ; J_EPO_decay\n",
    "Pbirth:        -> P     ; J_P_birth \n",
    "Pdeath:      P ->       ; J_P_death\n",
    "Page:        P -> 16 R  ; J_P_aging     #geschätzt\n",
    "Rdeath:      R ->       ; J_R_death \n",
    "Raging:      R -> E     ; J_R_aging        \n",
    "Edeath:      E ->       ; J_E_death       \n",
    "##parasite lifecircle\n",
    "Ealter:      E -> niE   ; J_E_alter   \n",
    "niEdeath:  niE ->       ; J_niE_death  \n",
    "infect:    E+M -> iE    ; J_E_infect     \n",
    "iEdeath:    iE ->       ; J_iE_death     \n",
    "iErupture:  iE -> 16 M  ; J_iE_rupture\n",
    "Mdeath:      M ->       ; J_M_death\n",
    "##Artesunate treatment\n",
    "iE_ART:     iE -> diE   ; J_iE_ART     \n",
    "diE_pitt:  diE -> oiE   ; J_diE_pitt \n",
    "diE_death: diE ->       ; J_diE_death \n",
    "oiEdeath:  oiE ->       ; J_oiE_death\n",
    "\n",
    "#parameter initiation\n",
    "#Lebenszeiten t\n",
    "##Erythropoese\n",
    "t_P_aging   = 10         #in days, Entwicklung von Stammzelle zum Retikulozyt dauert ca. 5-9 Tage, plus 3 Tage die er schon retikulozyte ist aber noch in Rückenmark\n",
    "t_R_aging   = 1          #in days, Entwicklung R -> E dauert ca 4 Tage (3 tage knochenmark, 1 Tage im peripheren Blut)-> wir betrachten nur Retis in peripheren Blut\n",
    "t_E_death   = 120        #in 1/days, 120 Tage E Lebensdauer s. Jorins Quellen\n",
    "##Infection with parasite\n",
    "t_niE_death = 20         #in days, geraten\n",
    "t_iE_rupture= 4          #in days, dauert ca 4 Tage bis Ruptur, sinuskurvig (2010 Th)\n",
    "##Artesunate treatment\n",
    "t_diE_pitt  = 0.25       #in days, bei Medikamentengabe nach 8h Maximum an gepitteten RBCs\n",
    "t_oiE_death = 10         #in days, Lebenspanne von 7-14 Tage(Fanello,2017), 7-21 (Arguin 2014) -> dort Verweise nachgehen\n",
    "\n",
    "#random Zahlen\n",
    "KI_P_death = 15          #EPO Wert bei gesunden Menschen\n",
    "\n",
    "\n",
    "#Assignments\n",
    "##Erythropoese\n",
    "J_EPO_prod  := k_EPO_prod         # hier später Abhängigkeit von, oiE, diE, iE einfügen (Ma, 2019) vlt (Hassan 2009)\n",
    "J_EPO_decay := EPO* k_EPO_decay\n",
    "J_P_birth    = k_P_birth             \n",
    "J_P_death   := P * k_P_death\n",
    "J_P_aging   := P * k_P_aging\n",
    "J_R_death   := R * k_R_death\n",
    "J_R_aging   := R * k_R_aging\n",
    "J_E_death   := E * k_E_death\n",
    "##Infection with parasite\n",
    "J_E_alter   := E  * k_E_alter\n",
    "J_niE_death := niE* k_niE_death\n",
    "J_E_infect  := M  * k_E_infect       # einbezug parasit?, E ersmal als Abhängigkeit ausgelassen da am Anfang E >> M -> mit Jorin absprechen+\n",
    "J_iE_death  := iE * k_iE_death       #einbezug antibodies, spleen\n",
    "J_iE_rupture:= iE * k_iE_rupture     #16-32M s.Cowman 2016, Anderson 1989, Diebner 2000\n",
    "J_M_death   := M  * k_M_death\n",
    "##Artesunate treatment\n",
    "J_iE_ART    := iE  * k_iE_ART       #einbezug artesunat\n",
    "J_diE_pitt  := diE * k_diE_pitt     # spleen\n",
    "J_diE_death := diE * k_diE_death\n",
    "J_oiE_death := oiE * k_oiE_death\n",
    "\n",
    "#Raten\n",
    "##Erythropoese\n",
    "k_EPO_prod := 40.77822328/(1+exp((Hb-100)*0.04) )    # in #cell/day\n",
    "k_EPO_decay:= 1-exp(-P* 2.659710604e-5)              # in 1/days, (Ma, 2009)\n",
    "k_P_birth   = P * (k_P_death + k_P_aging)       # für SS umgestellt\n",
    "k_P_death  := 1/(1+ (EPO/KI_P_death))     #geraten, muss hoch sein, da wenn EPO da ist, dese so stark erringert wird dass Erythropoese verstrkt wird \n",
    "k_P_aging   = ln(2) / (t_P_aging/2)       #in 1/days\n",
    "k_R_death   = 0.001                       #in 1/days,  geraten\n",
    "k_R_aging   = ln(2) / (t_R_aging/2)       #in 1/days \n",
    "k_E_death   = ln(2) / (t_E_death/2)       #in 1/days\n",
    "##infection with parasit \n",
    "k_E_alter   = 0                           #bei Infektion: 0.15aus komischen paper 2022\n",
    "k_niE_death = ln(2) / (t_niE_death/2)     #in 1/days\n",
    "k_E_infect  = 0                           #bei Infektion:2.0* 10^-9 keine Einheit, Ma 2019\n",
    "k_iE_death  = 0.025                       #in 1/days, Ma 2019\n",
    "k_iE_rupture= ln(2) / (t_iE_rupture/2)    #in 1/days\n",
    "k_M_death   = 48                          #in 1/days 2010 Thi \n",
    "##Artesunate treatment\n",
    "k_iE_ART    = 0.01                        # geschätzt ohne Medikament, , ART hat 1h Halbwertszeit (Tilley 2016)\n",
    "k_diE_pitt  = ln(2) / (t_diE_pitt  /2)    # bei Medikamentengabe nach 8h Maximum an gepitteten RBCs\n",
    "k_diE_death = 0.001\n",
    "k_oiE_death = ln(2) / (t_oiE_death/2)     #in 1/days               \n",
    "\n",
    "              \n",
    "#Hämoglobin           \n",
    "#(noch diE, niE Volumen, iE, Konzentrationen hinzufügen)\n",
    "##Volumen\n",
    "R_Vol    = 100e-15        #in l, Jorin\n",
    "E_Vol    = 80e-15         #=80 fL, in l, Jorin, =MCH\n",
    "#niE_Vol =\n",
    "iE_Vol   = 80e-15         #in l,   Jorin\n",
    "#diE_Vol = 80e-15         #auf gleiches Volumen wie iE geschätzt\n",
    "oiE_Vol  = 50e-15         #in l, Jorin\n",
    "blood_Vol_total = 1e-6    # =1µl, in l, gesamtes Blutvolumen \n",
    "##Hb Konzentrationen\n",
    "Hb_conc_R    = 300        #in g/l (Piva,2014) \n",
    "Hb_conc_E    = 340        #in g/l,  =MCHC, https://www.ucsfhealth.org/medical-tests/rbc-indices\n",
    "#Hb_conc_niE =      \n",
    "#Hb_conc_iE  = \n",
    "#Hb_conc_diE =\n",
    "#Hb_conc_oiE = \n",
    "#Hämatokrit, Hämoglobin\n",
    "Hkt     := (E_Vol * E + R_Vol * R) / blood_Vol_total                             #0.4 ~ 40 %, #hier fehlen noch MCHC von infected Zellen\n",
    "Hb      := (E_Vol * E * Hb_conc_E + R_Vol * R * Hb_conc_R) / blood_Vol_total     #in g/l, hier fehlen noch MCHC von infected Zellen\n",
    "Hb_g_dl := Hb/10\n",
    "\n",
    "\n",
    "#Parasitemie\n",
    "p := iE / (E + R + iE + oiE + niE + diE)    \n",
    "\n",
    "      \n",
    "\"\"\""
   ]
  },
  {
   "cell_type": "markdown",
   "metadata": {},
   "source": [
    "## Simulation"
   ]
  },
  {
   "cell_type": "code",
   "execution_count": 13,
   "metadata": {},
   "outputs": [],
   "source": [
    "OIE = te.loada(OIE_model)\n",
    "#OIE.exportToSBML('./OIE.xml')"
   ]
  },
  {
   "cell_type": "code",
   "execution_count": 16,
   "metadata": {},
   "outputs": [
    {
     "name": "stdout",
     "output_type": "stream",
     "text": [
      "137.25001\n",
      "7.499998818520919 7.499999999613709\n"
     ]
    },
    {
     "data": {
      "image/png": "[encoded data removed]",
      "text/plain": [
       "<Figure size 432x288 with 1 Axes>"
      ]
     },
     "metadata": {},
     "output_type": "display_data"
    },
    {
     "name": "stdout",
     "output_type": "stream",
     "text": [
      "0.4041702486819974\n",
      "0.008264462809917356\n"
     ]
    }
   ],
   "source": [
    "OIE = te.loada(OIE_model)\n",
    "print(OIE.Hb)\n",
    "print(OIE.J_EPO_prod, OIE.J_EPO_decay)\n",
    "\n",
    "result = OIE.simulate (0, 500000)\n",
    "OIE.plot(result)\n",
    "\n",
    "print(OIE.Hkt)\n",
    "print(OIE.R/(OIE.R+OIE.E))\n",
    "\n",
    "\n"
   ]
  },
  {
   "cell_type": "code",
   "execution_count": null,
   "metadata": {},
   "outputs": [],
   "source": [
    "OIE = te.loada(OIE_model)\n",
    "print(OIE.J_EPO_prod,OIE.J_EPO_decay)\n",
    "result = OIE.simulate (0, 6000, ['time', '[E]'])\n",
    "OIE.plot(result)"
   ]
  },
  {
   "cell_type": "code",
   "execution_count": null,
   "metadata": {},
   "outputs": [],
   "source": [
    "OIE.selections"
   ]
  },
  {
   "cell_type": "code",
   "execution_count": null,
   "metadata": {},
   "outputs": [],
   "source": [
    "OIE.getSimulationData()"
   ]
  },
  {
   "cell_type": "code",
   "execution_count": null,
   "metadata": {},
   "outputs": [],
   "source": []
  }
 ],
 "metadata": {
  "kernelspec": {
   "display_name": "Python 3 (ipykernel)",
   "language": "python",
   "name": "python3"
  },
  "language_info": {
   "codemirror_mode": {
    "name": "ipython",
    "version": 3
   },
   "file_extension": ".py",
   "mimetype": "text/x-python",
   "name": "python",
   "nbconvert_exporter": "python",
   "pygments_lexer": "ipython3",
   "version": "3.10.6"
  }
 },
 "nbformat": 4,
 "nbformat_minor": 4
}
